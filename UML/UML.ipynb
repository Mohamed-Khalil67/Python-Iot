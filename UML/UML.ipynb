{
 "cells": [
  {
   "cell_type": "code",
   "execution_count": 2,
   "metadata": {},
   "outputs": [],
   "source": [
    "class MaClasse:\n",
    "    pass"
   ]
  },
  {
   "cell_type": "code",
   "execution_count": 3,
   "metadata": {},
   "outputs": [
    {
     "name": "stdout",
     "output_type": "stream",
     "text": [
      "<__main__.MaClasse object at 0x0000026E44B5FEB0>\n"
     ]
    }
   ],
   "source": [
    "#on déclare cet objet afin de l'utiliser\n",
    "MonObjet = MaClasse()\n",
    "#on l'affiche\n",
    "print(MonObjet) # adresse mémoire"
   ]
  },
  {
   "cell_type": "raw",
   "metadata": {},
   "source": [
    "C'est Bon vous avez vu une classe python. La classe est le moyen , en python, de décrire à quoi va ressembler un Objet.\n",
    "\n",
    "MacClasse() (notes les parenthèses), est la syntaxe Python pour dire \"fabrique un objet à partir de ce plan\". "
   ]
  },
  {
   "cell_type": "markdown",
   "metadata": {},
   "source": [
    "## Les méthodes"
   ]
  },
  {
   "cell_type": "code",
   "execution_count": 4,
   "metadata": {},
   "outputs": [],
   "source": [
    "class DescriptionDeLObject:\n",
    "\n",
    "    #une méthode est une fonction qu'on définie tel que :\n",
    "    def la_methode(objet_en_cours):\n",
    "        print(\"ceci est une méthode sur un objet : 'tada'\")"
   ]
  },
  {
   "cell_type": "code",
   "execution_count": 9,
   "metadata": {},
   "outputs": [
    {
     "name": "stdout",
     "output_type": "stream",
     "text": [
      "ceci est une méthode sur un objet : 'tada'\n"
     ]
    }
   ],
   "source": [
    "#on redéfinit la variable MonObjet\n",
    "MonObjet = DescriptionDeLObject()\n",
    "#on pet maintenant appeller la méthode de notre objet\n",
    "MonObjet.la_methode()"
   ]
  },
  {
   "cell_type": "code",
   "execution_count": 8,
   "metadata": {},
   "outputs": [
    {
     "name": "stdout",
     "output_type": "stream",
     "text": [
      "un truc\n"
     ]
    }
   ],
   "source": [
    "class UneClasse :\n",
    "    #une methode\n",
    "    def une_methode(self):\n",
    "        print('un truc')\n",
    "\n",
    "ex = UneClasse()\n",
    "ex.une_methode()"
   ]
  },
  {
   "cell_type": "code",
   "execution_count": 10,
   "metadata": {},
   "outputs": [],
   "source": [
    "# L'initialisation des Objets"
   ]
  },
  {
   "cell_type": "code",
   "execution_count": 11,
   "metadata": {},
   "outputs": [],
   "source": [
    "class UneAutreClass:\n",
    "    \"\"\"\n",
    "        un exemple d'init de la méthode\n",
    "    \"\"\"\n",
    "    def _init_(self):\n",
    "        print(\"L'objet à bien été crée !\")\n",
    "        print(\"La méthode est appelé automatiquement à la déclaration \")\n",
    "\n",
    "x = UneAutreClass()"
   ]
  },
  {
   "cell_type": "code",
   "execution_count": 12,
   "metadata": {},
   "outputs": [],
   "source": [
    "y = UneAutreClass()"
   ]
  },
  {
   "cell_type": "raw",
   "metadata": {},
   "source": [
    "Personne : ( les attributs )\n",
    "-nom : string\n",
    "-pernom : string\n",
    "-dateNaissance : Date -> présentation d'un instant dans le temps (timestramp)\n",
    "\n",
    "+<<creat>> Personne (nom:String, prenom:String,dateNaissance:Date)\n",
    "+afficher()\n",
    "+calculerAge() :integer"
   ]
  },
  {
   "cell_type": "code",
   "execution_count": 27,
   "metadata": {},
   "outputs": [],
   "source": [
    "import datetime"
   ]
  },
  {
   "cell_type": "code",
   "execution_count": 41,
   "metadata": {},
   "outputs": [],
   "source": [
    "class Personne :\n",
    "    def __init__(self,nom,prenom,dateNaissance): \n",
    "        #two underscore before and after init\n",
    "        self.nom = nom\n",
    "        self.prenom = prenom\n",
    "        self.dateNaissance = dateNaissance\n",
    "    #une méthode pour afficher notre personne quand même\n",
    "    def afficher(self):\n",
    "        print(slef.prenom,\"\",self.nom)\n",
    "    #une méthode pour calculer l'age avec le module datetime\n",
    "    def calculerAge(self)-> int:\n",
    "        now = datetime.datetime.now()\n",
    "        return now.year - self.dateNaissance.year #year object de dateNaissance\n",
    "        "
   ]
  },
  {
   "cell_type": "raw",
   "metadata": {},
   "source": [
    "# depuis une méthode , l'accés aux attributs de la classe ou l'appel d'autre méthodes de la classe se fait à l'aide du self\n",
    " \n",
    "-> forcer le type"
   ]
  },
  {
   "cell_type": "code",
   "execution_count": 42,
   "metadata": {},
   "outputs": [],
   "source": [
    "p = Personne('khalil','Mohamed',datetime.datetime(1996,7,9))"
   ]
  },
  {
   "cell_type": "code",
   "execution_count": 45,
   "metadata": {},
   "outputs": [
    {
     "data": {
      "text/plain": [
       "24"
      ]
     },
     "execution_count": 45,
     "metadata": {},
     "output_type": "execute_result"
    }
   ],
   "source": [
    "p.calculerAge()\n",
    "# oublies pas les parenthéses"
   ]
  },
  {
   "cell_type": "markdown",
   "metadata": {},
   "source": [
    "## Encapsulation"
   ]
  },
  {
   "cell_type": "raw",
   "metadata": {},
   "source": [
    "Nom        UML         Python\n",
    "\n",
    "Public      +      Aucun (par défaut)      \n",
    "Protégé     #        -avant le nom         class dérivées\n",
    "Privé       -        --avant le nom    Seules les methodes situé dslaclasse"
   ]
  },
  {
   "cell_type": "code",
   "execution_count": 53,
   "metadata": {},
   "outputs": [],
   "source": [
    "class Voiture:\n",
    "    def __init__(self):\n",
    "        self._roues=4\n",
    "    def _get_roues(self):\n",
    "        print(\"Récupération du nombre de roues\")\n",
    "        return self._roues\n",
    "    def _set_roues(self,v):\n",
    "        print(\"changement de nb du roues\")\n",
    "        self._roues =v\n",
    "    roues=property(_get_roues,_set_roues)"
   ]
  },
  {
   "cell_type": "code",
   "execution_count": 54,
   "metadata": {},
   "outputs": [
    {
     "name": "stdout",
     "output_type": "stream",
     "text": [
      "changement de nb du roues\n",
      "Récupération du nombre de roues\n"
     ]
    },
    {
     "data": {
      "text/plain": [
       "5"
      ]
     },
     "execution_count": 54,
     "metadata": {},
     "output_type": "execute_result"
    }
   ],
   "source": [
    "ma_voiture=Voiture()\n",
    "ma_voiture.roues=5\n",
    "ma_voiture.roues"
   ]
  },
  {
   "cell_type": "code",
   "execution_count": 55,
   "metadata": {},
   "outputs": [],
   "source": [
    "class Voiture(object):\n",
    "    def __init__(self):\n",
    "        self._roues=4\n",
    "    @property\n",
    "    def roues(self):\n",
    "        print(\"Récupération du nombre de roues\")\n",
    "        return self._roues\n",
    "    \n",
    "    @roues.setter\n",
    "    def roues(self,v):\n",
    "        print(\"changement de nb du roues\")\n",
    "        self._roues =v"
   ]
  },
  {
   "cell_type": "raw",
   "metadata": {},
   "source": [
    "une décortateur est une focntion qui modifie le comportement d'une autre fonction"
   ]
  },
  {
   "cell_type": "markdown",
   "metadata": {},
   "source": [
    "## L'Héritage"
   ]
  },
  {
   "cell_type": "code",
   "execution_count": 58,
   "metadata": {},
   "outputs": [
    {
     "name": "stdout",
     "output_type": "stream",
     "text": [
      "la Voiture démarre\n",
      "la Voiture de sport démarre\n"
     ]
    }
   ],
   "source": [
    "class Voiture:\n",
    "    \n",
    "    roues=4\n",
    "    moteur=1\n",
    "    \n",
    "    def __init__(self):\n",
    "        self.nom=\"A déterminer\"\n",
    "        \n",
    "    def allumer(self):\n",
    "        print(\"la Voiture démarre\")\n",
    "        \n",
    "class VoitureSport(Voiture):\n",
    "    \n",
    "    def __init__(self):\n",
    "        self.nom = \"Ferrari\"\n",
    "    def allumer(self):\n",
    "        Voiture.allumer(self)\n",
    "        print(\"la Voiture de sport démarre\")\n",
    "        \n",
    "ma_voiture_sport = VoitureSport()\n",
    "ma_voiture_sport.allumer()\n",
    "        \n",
    "        \n",
    "        "
   ]
  },
  {
   "cell_type": "code",
   "execution_count": 74,
   "metadata": {},
   "outputs": [],
   "source": [
    "class vecteur :\n",
    "    def __init__(self,x,y):\n",
    "        self.x=x\n",
    "        self.y=y\n",
    "    #surcharge de l'opperateur +\n",
    "    def __add__(self,other:vecteur) -> vecteur : \n",
    "        # pas besoin de forcer \"other:vetceur\" ou faire \"-> vecteur\"\n",
    "        return vecteur(self.x+other.x,self.y+other.y)\n",
    "    #afficher\n",
    "    def __repr__(self):\n",
    "        return \"Vecteur({},{})\".format(self.x,self.y)\n",
    "        "
   ]
  },
  {
   "cell_type": "code",
   "execution_count": 75,
   "metadata": {},
   "outputs": [],
   "source": [
    "v1 = vecteur(1,2)\n",
    "v2 = vecteur(3,4)"
   ]
  },
  {
   "cell_type": "code",
   "execution_count": 76,
   "metadata": {},
   "outputs": [
    {
     "data": {
      "text/plain": [
       "Vecteur(1,2)"
      ]
     },
     "execution_count": 76,
     "metadata": {},
     "output_type": "execute_result"
    }
   ],
   "source": [
    "v1"
   ]
  },
  {
   "cell_type": "code",
   "execution_count": 77,
   "metadata": {
    "scrolled": true
   },
   "outputs": [
    {
     "data": {
      "text/plain": [
       "Vecteur(3,4)"
      ]
     },
     "execution_count": 77,
     "metadata": {},
     "output_type": "execute_result"
    }
   ],
   "source": [
    "v2"
   ]
  },
  {
   "cell_type": "code",
   "execution_count": 78,
   "metadata": {},
   "outputs": [
    {
     "data": {
      "text/plain": [
       "Vecteur(4,6)"
      ]
     },
     "execution_count": 78,
     "metadata": {},
     "output_type": "execute_result"
    }
   ],
   "source": [
    "v1+v2"
   ]
  },
  {
   "cell_type": "code",
   "execution_count": 59,
   "metadata": {},
   "outputs": [],
   "source": [
    "a = [1,2]\n",
    "b = [3,4]"
   ]
  },
  {
   "cell_type": "code",
   "execution_count": 60,
   "metadata": {},
   "outputs": [
    {
     "data": {
      "text/plain": [
       "[1, 2, 3, 4]"
      ]
     },
     "execution_count": 60,
     "metadata": {},
     "output_type": "execute_result"
    }
   ],
   "source": [
    "a+b"
   ]
  },
  {
   "cell_type": "markdown",
   "metadata": {},
   "source": [
    "## Exercices"
   ]
  },
  {
   "cell_type": "raw",
   "metadata": {},
   "source": [
    "#### Le compte bancaire\n",
    "\n",
    "Écrire un programme python qui permet de définir une classe CompteBancaire(), qui permette d’instancier des objets tels que compte1, compte2, etc. Le constructeur de cette classe initialisera deux attributs d’instance nom et solde, avec les valeurs par défaut ’Dupont’ et 1000.\n",
    "\n",
    "Trois autres méthodes seront définies :\n",
    "\n",
    "- depot(somme) permettra d’ajouter une certaine somme au solde ;\n",
    "- retrait(somme) permettra de retirer une certaine somme du solde ;\n",
    "- affiche() permettra d’afficher le nom du titulaire et le solde de son compte.\n",
    "\n",
    "Exemples d’exécution:\n",
    "```\n",
    ">>> compte1 = CompteBancaire(‘Duchmol’, 800)\n",
    ">>> compte1.depot(350)\n",
    ">>> compte1.retrait(200)\n",
    ">>> compte1.affiche()\n",
    "Le solde du compte bancaire de Duchmol est de 950 euros.\n",
    ">>> compte2 = CompteBancaire()\n",
    ">>> compte2.depot(25)\n",
    ">>> compte2.affiche()\n",
    "Le solde du compte bancaire de Dupont est de 1025 euros.\n",
    "\n",
    "```"
   ]
  },
  {
   "cell_type": "code",
   "execution_count": 48,
   "metadata": {},
   "outputs": [],
   "source": [
    "class CompteBancaire :\n",
    "    def __init__(self,nom=\"Dupont\",solde=1000):\n",
    "        self.nom = nom\n",
    "        self.solde = solde\n",
    "    #surcharge de l'opperateur +\n",
    "    def depot(self,somme): \n",
    "        self.solde=self.solde+somme\n",
    "    #afficher\n",
    "    def retrait(self,somme):\n",
    "        self.solde=self.solde-somme\n",
    "    def affiche(self):\n",
    "        print(\"Le solde du compte bancaire de {} est de {} euros.\".format(self.nom,self.solde))"
   ]
  },
  {
   "cell_type": "code",
   "execution_count": 49,
   "metadata": {},
   "outputs": [
    {
     "name": "stdout",
     "output_type": "stream",
     "text": [
      "Le solde du compte bancaire de Duchmol est de 950 euros.\n"
     ]
    }
   ],
   "source": [
    "compte1 = CompteBancaire('Duchmol',800)\n",
    "compte1.depot(350)\n",
    "compte1.retrait(200)\n",
    "compte1.affiche()"
   ]
  },
  {
   "cell_type": "code",
   "execution_count": 50,
   "metadata": {},
   "outputs": [
    {
     "name": "stdout",
     "output_type": "stream",
     "text": [
      "Le solde du compte bancaire de Dupont est de 1025 euros.\n"
     ]
    }
   ],
   "source": [
    "compte2 = CompteBancaire()\n",
    "compte2.depot(25)\n",
    "compte2.affiche()"
   ]
  },
  {
   "cell_type": "raw",
   "metadata": {},
   "source": [
    "#### La surcharge d'opérateur \n",
    "\n",
    "Définir une classe Point avec un constructeur, un point est définit soit par deux coordonnées x et y, s’il s’agit d’une représentation d’un point au plan ou par trois coordonnées x, y et z, s’il s’agit d’une représentation d’un point en espace.\n",
    "\n",
    "La classe Point doit contenir une méthode ToString qui affiche le point.\n",
    "\n",
    "Exemple d’exécution:\n",
    "```\n",
    ">>>P1=Point(2,3)\n",
    ">>>P1.ToString()\n",
    "P(2.00 , 3.00)\n",
    ">>>P2=Point(1,-5,6)\n",
    ">>>P2.ToString()\n",
    "P(1.00 , -5.00 , 6.00)"
   ]
  },
  {
   "cell_type": "code",
   "execution_count": 20,
   "metadata": {},
   "outputs": [],
   "source": [
    "class Point :\n",
    "    def __init__(self,x:float,y:float,z:float=None):\n",
    "        self.x=x\n",
    "        self.y=y\n",
    "        self.z=z\n",
    "    def ToString(self)->str:\n",
    "        return self.__repr__()\n",
    "    \n",
    "    def __repr__(self) -> str:\n",
    "        if self.z==None:\n",
    "            print(\"P({},{})\".format(self.x,self.y))\n",
    "        else:\n",
    "            print(\"P({},{},{})\".format(self.x,self.y,self.z))\n",
    "        "
   ]
  },
  {
   "cell_type": "code",
   "execution_count": 22,
   "metadata": {},
   "outputs": [
    {
     "name": "stdout",
     "output_type": "stream",
     "text": [
      "P(2,3)\n"
     ]
    }
   ],
   "source": [
    "P1=Point(2,3)\n",
    "P1.ToString()\n"
   ]
  },
  {
   "cell_type": "code",
   "execution_count": 23,
   "metadata": {},
   "outputs": [
    {
     "name": "stdout",
     "output_type": "stream",
     "text": [
      "P(2,3,-5)\n"
     ]
    }
   ],
   "source": [
    "P2=Point(2,3,-5)\n",
    "P2.ToString()"
   ]
  },
  {
   "cell_type": "raw",
   "metadata": {},
   "source": [
    "#### L'héritage simple\n",
    "\n",
    "Définir les classes suivantes:\n",
    "\n",
    "- Une classe DateNaissance avec trois attributs, jour, mois, année et une méthode ToString qui convertit la date de naissance en chaine de caractères\n",
    "- Une classe Personne  avec trois attributs, nom, prénom et date de naissance et une méthode polymorphe Afficher pour afficher les données de chaque personne.\n",
    "- Une classe Employé qui dérive de la classe Personne, avec en plus un attribut Salaire et la redéfinition de la méthode Afficher.\n",
    "- Une classe Chef qui dérive de la classe Employé, avec en plus un attribut Service et la redéfinition de la méthode Afficher.\n",
    "\n",
    "Exemple d’exécution:\n",
    "\n",
    "```\n",
    ">>>P=personne(“Ilyass”,”Math”,DateNaissance(1,7,1982))\n",
    ">>>P.afficher()\n",
    "Nom: Ilyass \n",
    "Prénom: Math\n",
    "Date de naissance: 01 / 07 / 1982\n",
    "\n",
    ">>>E=employe(“Ilyass”,”Math”,DateNaissance(1,7,1985),7865.548)\n",
    ">>>E.afficher()\n",
    "Nom: Ilyass \n",
    "Prénom: Math\n",
    "Date de naissance: 01 / 07 / 1985\n",
    "Salaire: 7865.55\n",
    "\n",
    ">>>Ch=chef(“Ilyass”,”Math”,DateNaissance(1,7,1988),7865.548,”Ressource humaine”)\n",
    ">>>Ch.afficher()\n",
    "Nom: Ilyass \n",
    "Prénom: Math\n",
    "Date de naissance: 01 / 07 / 1988\n",
    "Salaire: 7865.55\n",
    "Service: Ressource humaine\n",
    "```\n"
   ]
  },
  {
   "cell_type": "code",
   "execution_count": 90,
   "metadata": {},
   "outputs": [],
   "source": [
    "import datetime\n",
    "class DateNaissance :\n",
    "    def __init__(self,jours:int,mois:int,anne:int):\n",
    "        self.jours=jours\n",
    "        self.mois=mois\n",
    "        self.anne=anne\n",
    "        \n",
    "    def ToString(self)->str:\n",
    "        return self.__repr__()\n",
    "    \n",
    "    def __repr__(self)->str:\n",
    "        d = datetime.datetime(self.anne, self.mois, self.jours)\n",
    "        return '{: %d / %m / %Y}'.format(d)"
   ]
  },
  {
   "cell_type": "code",
   "execution_count": 91,
   "metadata": {},
   "outputs": [
    {
     "data": {
      "text/plain": [
       "' 01 / 07 / 5050'"
      ]
     },
     "execution_count": 91,
     "metadata": {},
     "output_type": "execute_result"
    }
   ],
   "source": [
    "o=DateNaissance(1,7,5050)\n",
    "o.ToString()"
   ]
  },
  {
   "cell_type": "code",
   "execution_count": 92,
   "metadata": {},
   "outputs": [],
   "source": [
    "class personne :\n",
    "    #super().__init__(first,last,pay)\n",
    "    def __init__(self,nom:str,prenom:str,date : DateNaissance):\n",
    "        #personne.__init__(jours,mois,anne)\n",
    "        self.nom=nom\n",
    "        self.prenom=prenom\n",
    "        self.date=date\n",
    "    def afficher(self)->str:\n",
    "        return self.__repr__()\n",
    "    \n",
    "    def __repr__(self)->str:   \n",
    "        print(\"Nom : \",self.nom)\n",
    "        print(\"prenom : \",self.prenom)\n",
    "        print(\"Date de Naissance : \",self.date.ToString())\n",
    "        "
   ]
  },
  {
   "cell_type": "code",
   "execution_count": 93,
   "metadata": {},
   "outputs": [
    {
     "name": "stdout",
     "output_type": "stream",
     "text": [
      "Nom :  Ilyass\n",
      "prenom :  Math\n",
      "Date de Naissance :   01 / 07 / 1982\n"
     ]
    }
   ],
   "source": [
    "P=personne(\"Ilyass\",\"Math\",DateNaissance(1,7,1982))\n",
    "P.afficher()"
   ]
  },
  {
   "cell_type": "code",
   "execution_count": 108,
   "metadata": {},
   "outputs": [],
   "source": [
    "class Employe(personne) :\n",
    "    \n",
    "    salaire:float\n",
    "    \n",
    "    def __init__(self,nom:str,prenom:str,date : DateNaissance,salaire:float):\n",
    "        super(Employe,self).__init__(nom,prenom,date)\n",
    "        self.salaire=salaire\n",
    "        \n",
    "    def afficher(self)->str:\n",
    "        return self.__repr__()\n",
    "    \n",
    "    def __repr__(self)->str:   \n",
    "        print(\"Nom : \",self.nom)\n",
    "        print(\"prenom : \",self.prenom)\n",
    "        print(\"Date de Naissance : \",self.date.ToString())\n",
    "        print(\"Salaire : \",self.salaire)"
   ]
  },
  {
   "cell_type": "code",
   "execution_count": 109,
   "metadata": {},
   "outputs": [
    {
     "name": "stdout",
     "output_type": "stream",
     "text": [
      "Nom :  Ilyass\n",
      "prenom :  Math\n",
      "Date de Naissance :   01 / 07 / 1985\n",
      "Salaire :  7865.548\n"
     ]
    }
   ],
   "source": [
    "E=Employe(\"Ilyass\",\"Math\",DateNaissance(1,7,1985),7865.548)\n",
    "E.afficher()"
   ]
  },
  {
   "cell_type": "code",
   "execution_count": 113,
   "metadata": {},
   "outputs": [],
   "source": [
    "class Chef(employe) :\n",
    "    \n",
    "    service:str\n",
    "    \n",
    "    def __init__(self,nom:str,prenom:str,date : DateNaissance,salaire:float,service:str):\n",
    "        super(Chef,self).__init__(nom,prenom,date,salaire)\n",
    "        self.service=service\n",
    "    def afficher(self)->str:\n",
    "        return self.__repr__()\n",
    "    \n",
    "    def __repr__(self)->str:\n",
    "        print(\"Nom : \",self.nom)\n",
    "        print(\"prenom : \",self.prenom)\n",
    "        print(\"Date de Naissance : \",self.date.ToString())\n",
    "        print(\"Salaire : \",self.salaire)\n",
    "        print(\"Service : \",self.service)\n",
    "    "
   ]
  },
  {
   "cell_type": "code",
   "execution_count": 114,
   "metadata": {},
   "outputs": [
    {
     "name": "stdout",
     "output_type": "stream",
     "text": [
      "Nom :  Ilyass\n",
      "prenom :  Math\n",
      "Date de Naissance :   01 / 07 / 1988\n",
      "Salaire :  7865.548\n",
      "Service :  Ressource humaine\n"
     ]
    }
   ],
   "source": [
    "Ch=Chef(\"Ilyass\",\"Math\",DateNaissance(1,7,1988),7865.548,\"Ressource humaine\")\n",
    "Ch.afficher()"
   ]
  },
  {
   "cell_type": "code",
   "execution_count": null,
   "metadata": {},
   "outputs": [],
   "source": [
    "class DateNaissance :\n",
    "    def __init__(self,\n",
    "                 jours,\n",
    "                 mois,\n",
    "                 annee):\n",
    "        self.jours = jours\n",
    "        self.mois = mois\n",
    "        self.annee = annee\n",
    "    def ToString(self):\n",
    "        return \"{} / {} / {}\".format(self.jours,self.mois,self.annee)\n",
    "class Personne :\n",
    "    def __init__(self,\n",
    "                 nom,\n",
    "                 prenom,\n",
    "                 dateNaissance):\n",
    "        self.nom = nom\n",
    "        self.prenom = prenom\n",
    "        self.dateNaissance = dateNaissance\n",
    "    def afficher(self):\n",
    "        print('Nom: ' + self.nom + ', Prenom: ' + self.prenom + ', Date de naissance: ' + str(self.dateNaissance.ToString()))\n",
    "personne = Personne('Renée','Jean',DateNaissance(5,3,1999))\n",
    "personne.afficher()\n",
    "class Employe(Personne):\n",
    "    def __init__(self, nom, prenom, dateNaissance, salaire):\n",
    "        Personne.__init__(self,nom,prenom,dateNaissance)\n",
    "        self.salaire = salaire\n",
    "    def afficher(self):\n",
    "        print('Nom: ' + self.nom + ', Prenom: ' + self.prenom + ', Date de naissance: ' + str(self.dateNaissance.ToString()) + ', Salaire: ' + str(self.salaire))\n",
    "employe = Employe('Guillaume','Dupont',DateNaissance(5,3,1999),15000)\n",
    "employe.afficher()\n",
    "class Chef(Employe):\n",
    "    def __init__(self, nom, prenom, dateNaissance, salaire, service):\n",
    "        Employe.__init__(self, nom, prenom, dateNaissance, salaire)\n",
    "        self.service = service\n",
    "    def afficher(self):\n",
    "        print('Nom: ' + self.nom + ', Prenom: ' + self.prenom + ', Date de naissance: ' + str(self.dateNaissance.ToString()) + ', Salaire: ' + str(self.salaire) + ', Service: ' + str(self.service))\n",
    "chef = Chef('Martin', 'Mister', DateNaissance(5,3,1999),500000,'Big boss')\n",
    "chef.afficher()"
   ]
  },
  {
   "cell_type": "code",
   "execution_count": null,
   "metadata": {},
   "outputs": [],
   "source": [
    "class DateNaissance:\n",
    "    def __init__(self, jour, mois, annee):\n",
    "        self.jour = jour\n",
    "        self.mois = mois\n",
    "        self.annee = annee\n",
    "    def ToString(self):\n",
    "        if self.jour < 10 or self.mois < 10:\n",
    "            return \"0{} / 0{} / {}\".format(self.jour, self.mois, self.annee)\n",
    "        else:\n",
    "            return \"{} / {} / {}\".format(self.jour, self.mois, self.annee)\n",
    "class Personne:\n",
    "    def __init__(self, nom, prenom, date_naissance: DateNaissance):\n",
    "        self.nom = nom\n",
    "        self.prenom = prenom\n",
    "        self.date_naissance = date_naissance\n",
    "    def afficher(self):\n",
    "        print(\"Nom : \"+self.nom)\n",
    "        print(\"Prenom : \"+self.prenom)\n",
    "        print(\"Date de naissance : \"+self.date_naissance.ToString())\n",
    "class Employe(Personne):\n",
    "    def __init__(self, nom, prenom, date_naissance: DateNaissance, salaire):\n",
    "        Personne.__init__(self, nom, prenom, date_naissance)\n",
    "        self.salaire = salaire\n",
    "    def afficher(self):\n",
    "        Personne.afficher(self)\n",
    "        print(\"Salaire : {}\".format(self.salaire))\n",
    "class Chef(Employe):\n",
    "    def __init__(self, nom, prenom, date_naissance: DateNaissance, salaire, service):\n",
    "        Employe.__init__(self, nom, prenom, date_naissance, salaire)\n",
    "        self.service = service\n",
    "    def afficher(self):\n",
    "        Employe.afficher(self)\n",
    "        print(\"Service : \"+self.service)"
   ]
  },
  {
   "cell_type": "code",
   "execution_count": null,
   "metadata": {},
   "outputs": [],
   "source": []
  },
  {
   "cell_type": "code",
   "execution_count": null,
   "metadata": {},
   "outputs": [],
   "source": []
  },
  {
   "cell_type": "code",
   "execution_count": null,
   "metadata": {},
   "outputs": [],
   "source": []
  },
  {
   "cell_type": "code",
   "execution_count": null,
   "metadata": {},
   "outputs": [],
   "source": []
  },
  {
   "cell_type": "raw",
   "metadata": {},
   "source": [
    "#### Le polymorphisme\n",
    "\n",
    "Une boîtes aux lettres recueille des courrier qui peuvent être des lettres ou des colis.\n",
    "\n",
    "Une lettre est caractérisée par :\n",
    "\n",
    "son poids (en grammes)\n",
    "le mode d’expédition (express ou normal)\n",
    "son adresse de destination\n",
    "son adresse d’expédition\n",
    "son format (“A3” ou “A4”)\n",
    "Un colis est caractérisé par :\n",
    "\n",
    "son poids (en grammes)\n",
    "le mode d’expédition (express ou normal)\n",
    "son adresse de destination\n",
    "son adresse d’expédition\n",
    "son volume (en litres )\n",
    "Il faut donc définir aussi les deux méthodes:\n",
    "\n",
    "calculTimbre: qui calcule le prix du Timbre\n",
    "ToString qui affiche un courrier\n",
    "Règles pour calculer le prix du Timbre :\n",
    "\n",
    "en mode d’expédition normal :\n",
    "\n",
    "Le montant nécessaire pour affranchir une lettre dépend de son format et de son poids : Formule : montant = tarif de base + 1.0 * poids (kilos), où le tarif de base pour une lettre “A4” est de 2.50, et 3.50 pour une lettre “A3”\n",
    "\n",
    "Le montant nécessaire pour affranchir un colis dépend de son poids et de son volume : Formule : montant = 0.25 volume (litres) + poids (kilos) 1.0\n",
    "\n",
    "en mode d’expédition express : les montants précédents sont doublés, quelque soit le type de courrier\n",
    "\n",
    "##### Exemple d’exécution :\n",
    "```\n",
    ">>>L1=Lettre(“Lille”,”Paris”,80,”normal”,”A4″)\n",
    ">>>L1.ToString()\n",
    "Lettre:\n",
    "Adresse destination: Lille \n",
    "Adress expedition: Paris\n",
    "Poids: 80.00 grammes\n",
    "Mode: normal \n",
    "Format:A4\n",
    "Prix du timbre:0.20\n",
    ">>>C1=Colis(“Marrakeche”,”Barcelone “,3500,”expresse”,2.25)\n",
    ">>>C1.ToString()\n",
    "Collis:\n",
    "Adresse destination: Marrakeche \n",
    "Adress expedition: Barcelone \n",
    "Poids: 3500.00 grammes\n",
    "Mode: expresse \n",
    "Volume: 2.25 litres\n",
    "Prix du timbre:3937.50"
   ]
  },
  {
   "cell_type": "code",
   "execution_count": 166,
   "metadata": {},
   "outputs": [],
   "source": [
    "class Courier :\n",
    "    adr_dest: str\n",
    "    adr_exp:str\n",
    "    poids:float\n",
    "    mode_exp:str\n",
    "    def __init__(self,adr_dest: str, adr_exp:str, poids:float , mode_exp:str):\n",
    "        self.adr_exp=adr_exp\n",
    "        self.adr_dest=adr_dest\n",
    "        self.poids=poids\n",
    "        self.mode_exp=mode_exp\n",
    "    "
   ]
  },
  {
   "cell_type": "code",
   "execution_count": 185,
   "metadata": {},
   "outputs": [],
   "source": [
    "class Lettre(Courier) :\n",
    "    formate:str\n",
    "     \n",
    "    def __init__(self,adr_dest : str, adr_exp:str, poids:float , mode_exp:str,formate:str):\n",
    "        super(Lettre,self).__init__(adr_exp,adr_dest,poids,mode_exp)\n",
    "        self.formate=formate\n",
    "    def calculTimbre(self):\n",
    "        print(\"Prix du timbre: {}\".format((2.5 if self.formate == \"A4\" else 3.5) * self.poids / 1000 * (2 if self.mode_exp == \"express\" else 1)))\n",
    "    def ToString(self)->str:\n",
    "        return self.__repr__()\n",
    "    \n",
    "    def __repr__(self)->str:\n",
    "        print(\"Lettre: \")\n",
    "        print(\"Adresse destination: : \",self.adr_dest)\n",
    "        print(\"Adress expedition: : \",self.adr_exp)\n",
    "        print(\"Poids : \",self.poids)\n",
    "        print(\"Mode : \",self.mode_exp)\n",
    "        print(\"Format : \",self.formate)\n",
    "        self.calculTimbre()"
   ]
  },
  {
   "cell_type": "code",
   "execution_count": 192,
   "metadata": {},
   "outputs": [],
   "source": [
    "class Colis(Courier) :\n",
    "    volume : float\n",
    "    def __init__(self,adr_dest : str, adr_exp:str, poids:float , mode_exp:str,volume:float):\n",
    "        super(Colis,self).__init__(adr_dest,adr_exp,poids,mode_exp)\n",
    "        self.volume=volume\n",
    "        \n",
    "    def calculTimbre(self):\n",
    "        print(\"Prix du timbre: {}\".format(0.25*self.volume*self.poids/1000* (2 if self.mode_exp == \"express\" else 1)))\n",
    "        \n",
    "    def ToString(self)->str:\n",
    "        return self.__repr__()\n",
    "    \n",
    "    def __repr__(self)->str:\n",
    "        print(\"Colis: \")\n",
    "        print(\"Adresse destination: : \",self.adr_dest)\n",
    "        print(\"Adress expedition: : \",self.adr_exp)\n",
    "        print(\"Poids : \",self.poids)\n",
    "        print(\"Mode : \",self.mode_exp)\n",
    "        print(\"Volmue :\",self.volume)\n",
    "        self.calculTimbre()\n"
   ]
  },
  {
   "cell_type": "code",
   "execution_count": 193,
   "metadata": {},
   "outputs": [
    {
     "name": "stdout",
     "output_type": "stream",
     "text": [
      "Lettre: \n",
      "Adresse destination: :  Paris\n",
      "Adress expedition: :  Lille\n",
      "Poids :  80\n",
      "Mode :  normal\n",
      "Format :  A4\n",
      "Prix du timbre: 0.2\n"
     ]
    }
   ],
   "source": [
    "L1=Lettre(\"Lille\",\"Paris\",80,\"normal\",\"A4\")\n",
    "L1.ToString()"
   ]
  },
  {
   "cell_type": "code",
   "execution_count": 194,
   "metadata": {},
   "outputs": [
    {
     "name": "stdout",
     "output_type": "stream",
     "text": [
      "Colis: \n",
      "Adresse destination: :  Marrakeche\n",
      "Adress expedition: :  Barcelone\n",
      "Poids :  3500\n",
      "Mode :  expresse\n",
      "Volmue : 2.25\n",
      "Prix du timbre: 4.0625\n"
     ]
    }
   ],
   "source": [
    "C1=Colis(\"Marrakeche\",\"Barcelone\",3500,\"expresse\",2.25)\n",
    "C1.ToString()"
   ]
  },
  {
   "cell_type": "code",
   "execution_count": null,
   "metadata": {},
   "outputs": [],
   "source": []
  },
  {
   "cell_type": "markdown",
   "metadata": {},
   "source": [
    "## UML"
   ]
  },
  {
   "cell_type": "raw",
   "metadata": {},
   "source": [
    "La langage de Modélisation Unifié  de l'anglais Unifies Modeling Language (UML)"
   ]
  },
  {
   "cell_type": "code",
   "execution_count": null,
   "metadata": {},
   "outputs": [],
   "source": [
    "# 6 "
   ]
  }
 ],
 "metadata": {
  "kernelspec": {
   "display_name": "Python 3",
   "language": "python",
   "name": "python3"
  },
  "language_info": {
   "codemirror_mode": {
    "name": "ipython",
    "version": 3
   },
   "file_extension": ".py",
   "mimetype": "text/x-python",
   "name": "python",
   "nbconvert_exporter": "python",
   "pygments_lexer": "ipython3",
   "version": "3.8.4"
  },
  "toc": {
   "base_numbering": 1,
   "nav_menu": {},
   "number_sections": true,
   "sideBar": true,
   "skip_h1_title": false,
   "title_cell": "Table of Contents",
   "title_sidebar": "Contents",
   "toc_cell": false,
   "toc_position": {},
   "toc_section_display": true,
   "toc_window_display": false
  },
  "varInspector": {
   "cols": {
    "lenName": 16,
    "lenType": 16,
    "lenVar": 40
   },
   "kernels_config": {
    "python": {
     "delete_cmd_postfix": "",
     "delete_cmd_prefix": "del ",
     "library": "var_list.py",
     "varRefreshCmd": "print(var_dic_list())"
    },
    "r": {
     "delete_cmd_postfix": ") ",
     "delete_cmd_prefix": "rm(",
     "library": "var_list.r",
     "varRefreshCmd": "cat(var_dic_list()) "
    }
   },
   "types_to_exclude": [
    "module",
    "function",
    "builtin_function_or_method",
    "instance",
    "_Feature"
   ],
   "window_display": false
  }
 },
 "nbformat": 4,
 "nbformat_minor": 4
}
