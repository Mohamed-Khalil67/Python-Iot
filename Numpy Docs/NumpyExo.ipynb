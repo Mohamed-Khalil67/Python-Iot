{
 "cells": [
  {
   "cell_type": "markdown",
   "metadata": {},
   "source": [
    "# Numpy exercices pratiques\n",
    "Ce notebook à pour objectif de vous faire pratiquer numpy dans toute sa généralité. \n",
    "Vous avez donc une liste de questions à faire ! Il ne faut pas hésiter à faire des recherches sur google ainsi que voir la [documentation officielle](https://docs.scipy.org/doc/numpy-1.13.0/reference/). "
   ]
  },
  {
   "cell_type": "markdown",
   "metadata": {},
   "source": [
    "#### Q1 : Importer le package numpy "
   ]
  },
  {
   "cell_type": "code",
   "execution_count": 1,
   "metadata": {},
   "outputs": [],
   "source": [
    "import numpy as np"
   ]
  },
  {
   "cell_type": "markdown",
   "metadata": {},
   "source": [
    "#### Q2 : Afficher la version de numpy et la configuration "
   ]
  },
  {
   "cell_type": "code",
   "execution_count": 2,
   "metadata": {},
   "outputs": [
    {
     "name": "stdout",
     "output_type": "stream",
     "text": [
      "1.19.2\n",
      "blas_mkl_info:\n",
      "  NOT AVAILABLE\n",
      "blis_info:\n",
      "  NOT AVAILABLE\n",
      "openblas_info:\n",
      "    library_dirs = ['D:\\\\a\\\\1\\\\s\\\\numpy\\\\build\\\\openblas_info']\n",
      "    libraries = ['openblas_info']\n",
      "    language = f77\n",
      "    define_macros = [('HAVE_CBLAS', None)]\n",
      "blas_opt_info:\n",
      "    library_dirs = ['D:\\\\a\\\\1\\\\s\\\\numpy\\\\build\\\\openblas_info']\n",
      "    libraries = ['openblas_info']\n",
      "    language = f77\n",
      "    define_macros = [('HAVE_CBLAS', None)]\n",
      "lapack_mkl_info:\n",
      "  NOT AVAILABLE\n",
      "openblas_lapack_info:\n",
      "    library_dirs = ['D:\\\\a\\\\1\\\\s\\\\numpy\\\\build\\\\openblas_lapack_info']\n",
      "    libraries = ['openblas_lapack_info']\n",
      "    language = f77\n",
      "    define_macros = [('HAVE_CBLAS', None)]\n",
      "lapack_opt_info:\n",
      "    library_dirs = ['D:\\\\a\\\\1\\\\s\\\\numpy\\\\build\\\\openblas_lapack_info']\n",
      "    libraries = ['openblas_lapack_info']\n",
      "    language = f77\n",
      "    define_macros = [('HAVE_CBLAS', None)]\n",
      "None\n"
     ]
    }
   ],
   "source": [
    "print(np.__version__)\n",
    "print(np.show_config())"
   ]
  },
  {
   "cell_type": "markdown",
   "metadata": {},
   "source": [
    "#### Q3 : Créer un vecteur nul de taille 10"
   ]
  },
  {
   "cell_type": "code",
   "execution_count": 3,
   "metadata": {},
   "outputs": [
    {
     "data": {
      "text/plain": [
       "array([0., 0., 0., 0., 0., 0., 0., 0., 0., 0.])"
      ]
     },
     "execution_count": 3,
     "metadata": {},
     "output_type": "execute_result"
    }
   ],
   "source": [
    "np.zeros(10)"
   ]
  },
  {
   "cell_type": "markdown",
   "metadata": {},
   "source": [
    "#### Q4 : Créer un vecteur null de taille 10 et affecter la valeur 1 à la 4ème place (index 4) du vecteur"
   ]
  },
  {
   "cell_type": "code",
   "execution_count": 8,
   "metadata": {},
   "outputs": [
    {
     "data": {
      "text/plain": [
       "array([0., 0., 0., 0., 0., 0., 0., 0., 0., 0.])"
      ]
     },
     "execution_count": 8,
     "metadata": {},
     "output_type": "execute_result"
    }
   ],
   "source": [
    "z = np.zeros(10); z\n"
   ]
  },
  {
   "cell_type": "code",
   "execution_count": 9,
   "metadata": {},
   "outputs": [
    {
     "data": {
      "text/plain": [
       "array([0., 0., 0., 1., 0., 0., 0., 0., 0., 0.])"
      ]
     },
     "execution_count": 9,
     "metadata": {},
     "output_type": "execute_result"
    }
   ],
   "source": [
    "z[3]=1; z"
   ]
  },
  {
   "cell_type": "markdown",
   "metadata": {},
   "source": [
    "#### Q5 : Créer un vecteur Z de 40 valeurs allant de 10 à 50 "
   ]
  },
  {
   "cell_type": "code",
   "execution_count": 16,
   "metadata": {},
   "outputs": [
    {
     "data": {
      "text/plain": [
       "array([10.        , 11.02564103, 12.05128205, 13.07692308, 14.1025641 ,\n",
       "       15.12820513, 16.15384615, 17.17948718, 18.20512821, 19.23076923,\n",
       "       20.25641026, 21.28205128, 22.30769231, 23.33333333, 24.35897436,\n",
       "       25.38461538, 26.41025641, 27.43589744, 28.46153846, 29.48717949,\n",
       "       30.51282051, 31.53846154, 32.56410256, 33.58974359, 34.61538462,\n",
       "       35.64102564, 36.66666667, 37.69230769, 38.71794872, 39.74358974,\n",
       "       40.76923077, 41.79487179, 42.82051282, 43.84615385, 44.87179487,\n",
       "       45.8974359 , 46.92307692, 47.94871795, 48.97435897, 50.        ])"
      ]
     },
     "execution_count": 16,
     "metadata": {},
     "output_type": "execute_result"
    }
   ],
   "source": [
    "z = np.linspace(10,50,40); z"
   ]
  },
  {
   "cell_type": "markdown",
   "metadata": {},
   "source": [
    "#### Q6 : Inverser Z (le premier élément devient donc le dernier)"
   ]
  },
  {
   "cell_type": "code",
   "execution_count": 23,
   "metadata": {},
   "outputs": [
    {
     "data": {
      "text/plain": [
       "array([50.        , 48.97435897, 47.94871795, 46.92307692, 45.8974359 ,\n",
       "       44.87179487, 43.84615385, 42.82051282, 41.79487179, 40.76923077,\n",
       "       39.74358974, 38.71794872, 37.69230769, 36.66666667, 35.64102564,\n",
       "       34.61538462, 33.58974359, 32.56410256, 31.53846154, 30.51282051,\n",
       "       29.48717949, 28.46153846, 27.43589744, 26.41025641, 25.38461538,\n",
       "       24.35897436, 23.33333333, 22.30769231, 21.28205128, 20.25641026,\n",
       "       19.23076923, 18.20512821, 17.17948718, 16.15384615, 15.12820513,\n",
       "       14.1025641 , 13.07692308, 12.05128205, 11.02564103, 10.        ])"
      ]
     },
     "execution_count": 23,
     "metadata": {},
     "output_type": "execute_result"
    }
   ],
   "source": [
    "z=np.linspace(10,50,40);z\n",
    "c=np.flip(z);c"
   ]
  },
  {
   "cell_type": "markdown",
   "metadata": {},
   "source": [
    "#### Q7 : Créer une matrice 3x3 avec des valeurs comprise entre 0 et 8 "
   ]
  },
  {
   "cell_type": "code",
   "execution_count": 28,
   "metadata": {},
   "outputs": [
    {
     "data": {
      "text/plain": [
       "array([[0., 1., 2.],\n",
       "       [3., 4., 5.],\n",
       "       [6., 7., 8.]])"
      ]
     },
     "execution_count": 28,
     "metadata": {},
     "output_type": "execute_result"
    }
   ],
   "source": [
    "a = np.linspace(0,8,9); a\n",
    "a.shape=(3,3) ;a"
   ]
  },
  {
   "cell_type": "markdown",
   "metadata": {},
   "source": [
    "#### Q8 : Créer une matrice identié 3x3 "
   ]
  },
  {
   "cell_type": "code",
   "execution_count": 30,
   "metadata": {},
   "outputs": [
    {
     "data": {
      "text/plain": [
       "array([[1., 0., 0.],\n",
       "       [0., 1., 0.],\n",
       "       [0., 0., 1.]])"
      ]
     },
     "execution_count": 30,
     "metadata": {},
     "output_type": "execute_result"
    }
   ],
   "source": [
    "a = np.diag(np.ones(3)) ; a"
   ]
  },
  {
   "cell_type": "markdown",
   "metadata": {},
   "source": [
    "#### Q9 : Créer une matrice 3x3x3 avec des valeurs random "
   ]
  },
  {
   "cell_type": "code",
   "execution_count": 39,
   "metadata": {},
   "outputs": [
    {
     "data": {
      "text/plain": [
       "array([[[0.15090969, 0.58671161, 0.71370853],\n",
       "        [0.71589301, 0.60048028, 0.3209045 ],\n",
       "        [0.00934232, 0.83835765, 0.11447404]],\n",
       "\n",
       "       [[0.01337532, 0.44750463, 0.20758547],\n",
       "        [0.52481634, 0.79767909, 0.43381778],\n",
       "        [0.7745206 , 0.21694965, 0.05320272]],\n",
       "\n",
       "       [[0.18556672, 0.38122863, 0.68828683],\n",
       "        [0.67578199, 0.15037281, 0.85803499],\n",
       "        [0.77578965, 0.68351418, 0.04742262]]])"
      ]
     },
     "execution_count": 39,
     "metadata": {},
     "output_type": "execute_result"
    }
   ],
   "source": [
    "c=np.zeros(27).reshape(3,3,3); c\n",
    "c = np.random.rand(3,3,3); c"
   ]
  },
  {
   "cell_type": "markdown",
   "metadata": {},
   "source": [
    "#### Q10 : Créer une matrice 10x10 avec des valeurs random et afficher le minimum et maximum de cette matrice"
   ]
  },
  {
   "cell_type": "code",
   "execution_count": 44,
   "metadata": {},
   "outputs": [
    {
     "data": {
      "text/plain": [
       "0.9907036253326374"
      ]
     },
     "execution_count": 44,
     "metadata": {},
     "output_type": "execute_result"
    }
   ],
   "source": [
    "c = np.random.rand(10,10);\n",
    "c.max()\n"
   ]
  },
  {
   "cell_type": "code",
   "execution_count": 43,
   "metadata": {},
   "outputs": [
    {
     "data": {
      "text/plain": [
       "0.013014418901633684"
      ]
     },
     "execution_count": 43,
     "metadata": {},
     "output_type": "execute_result"
    }
   ],
   "source": [
    "c.min()"
   ]
  },
  {
   "cell_type": "markdown",
   "metadata": {},
   "source": [
    "#### Q11 : Créer une matrice 5x5 avec les valeurs 1,2,3,4 en dessous de la diagonale "
   ]
  },
  {
   "cell_type": "code",
   "execution_count": 54,
   "metadata": {},
   "outputs": [
    {
     "data": {
      "text/plain": [
       "array([[1., 0., 0., 0., 0.],\n",
       "       [1., 1., 0., 0., 0.],\n",
       "       [0., 2., 1., 0., 0.],\n",
       "       [0., 0., 3., 1., 0.],\n",
       "       [0., 0., 0., 4., 1.]])"
      ]
     },
     "execution_count": 54,
     "metadata": {},
     "output_type": "execute_result"
    }
   ],
   "source": [
    "a = np.diag(np.ones(5)) ; a\n",
    "a[1,0]=1\n",
    "a[2,1]=2\n",
    "a[3,2]=3\n",
    "a[4,3]=4; a"
   ]
  },
  {
   "cell_type": "markdown",
   "metadata": {},
   "source": [
    "#### Q12 : Créer une liste random de taille 5 et donner la somme de ses éléments  "
   ]
  },
  {
   "cell_type": "code",
   "execution_count": 50,
   "metadata": {},
   "outputs": [
    {
     "data": {
      "text/plain": [
       "3.4314674601544324"
      ]
     },
     "execution_count": 50,
     "metadata": {},
     "output_type": "execute_result"
    }
   ],
   "source": [
    "x = np.random.rand(5); x\n",
    "x.sum()"
   ]
  },
  {
   "cell_type": "markdown",
   "metadata": {},
   "source": [
    "#### Q13 : Créer une liste random de taille 5 et donner la moyenne de ses éléments"
   ]
  },
  {
   "cell_type": "code",
   "execution_count": 55,
   "metadata": {},
   "outputs": [
    {
     "data": {
      "text/plain": [
       "0.39465119580916086"
      ]
     },
     "execution_count": 55,
     "metadata": {},
     "output_type": "execute_result"
    }
   ],
   "source": [
    "x = np.random.rand(5); x\n",
    "x.mean()"
   ]
  },
  {
   "cell_type": "markdown",
   "metadata": {},
   "source": [
    "#### Q14 : En utilisant une fonction, donner la taille de la liste suivante :\n",
    "```python \n",
    "l = [x for x in range(11)]\n",
    "```"
   ]
  },
  {
   "cell_type": "code",
   "execution_count": 7,
   "metadata": {},
   "outputs": [
    {
     "data": {
      "text/plain": [
       "11"
      ]
     },
     "execution_count": 7,
     "metadata": {},
     "output_type": "execute_result"
    }
   ],
   "source": [
    "l = [k for k in range(11)]\n",
    "ar = np.size(l); ar\n"
   ]
  },
  {
   "cell_type": "markdown",
   "metadata": {},
   "source": [
    "#### Q15 : Créer un tableau de taille 10 avec des valeurs comprises entre 0 et 1 EXCLUS "
   ]
  },
  {
   "cell_type": "code",
   "execution_count": 14,
   "metadata": {},
   "outputs": [
    {
     "data": {
      "text/plain": [
       "array([[0.35936992, 0.84966257, 0.52753752, 0.56868504, 0.47516292,\n",
       "        0.78180166, 0.65321131, 0.99530824, 0.09375   , 0.53924221]])"
      ]
     },
     "execution_count": 14,
     "metadata": {},
     "output_type": "execute_result"
    }
   ],
   "source": [
    "a = np.random.rand(1,10); a\n"
   ]
  },
  {
   "cell_type": "markdown",
   "metadata": {},
   "source": [
    "#### Q16 : Soit deux tableau A et B de dimension 1 et de taille 5, créer A et B et afficher True si A et B sont égaux False sinon"
   ]
  },
  {
   "cell_type": "code",
   "execution_count": 19,
   "metadata": {},
   "outputs": [
    {
     "name": "stdout",
     "output_type": "stream",
     "text": [
      "True\n"
     ]
    }
   ],
   "source": [
    "A = np.array([1,2,3,5,4])\n",
    "B = np.array([1,2,3,5,4])\n",
    "\n",
    "if (A.ndim == B.ndim ) :\n",
    "    print('True')\n",
    "else:\n",
    "    print('False')\n"
   ]
  },
  {
   "cell_type": "markdown",
   "metadata": {},
   "source": [
    "#### Q17 : Convertir un tableau de float32 de dimension 1 et de taille 10 en un tableau de meme taille et dimension mais de type int32"
   ]
  },
  {
   "cell_type": "code",
   "execution_count": 35,
   "metadata": {},
   "outputs": [
    {
     "data": {
      "text/plain": [
       "dtype('float32')"
      ]
     },
     "execution_count": 35,
     "metadata": {},
     "output_type": "execute_result"
    }
   ],
   "source": [
    "tab1 = np.array([1,2,4,5,6,7,8,9,10],dtype='float32');\n",
    "type(tab1)\n",
    "tab1.dtype\n",
    "tab2 = np.ones(10)\n",
    "tab2=tab1.astype(int)\n",
    "tab2.dtype\n",
    "tab1.dtype\n"
   ]
  },
  {
   "cell_type": "markdown",
   "metadata": {},
   "source": [
    "#### Q18 : Normaliser une matrice random 5x5 \n",
    "La normalisation d'un nombre X consiste à lui retirer sa moyenne et a diviser le tout par son écart type "
   ]
  },
  {
   "cell_type": "code",
   "execution_count": 69,
   "metadata": {},
   "outputs": [
    {
     "name": "stdout",
     "output_type": "stream",
     "text": [
      "[[5 9 7 8 1]\n",
      " [4 1 8 6 3]\n",
      " [8 6 1 1 2]\n",
      " [6 6 3 2 8]\n",
      " [0 3 6 5 1]]\n",
      "[[ 0.6  4.6  2.6  3.6 -3.4]\n",
      " [-0.4 -3.4  3.6  1.6 -1.4]\n",
      " [ 3.6  1.6 -3.4 -3.4 -2.4]\n",
      " [ 1.6  1.6 -1.4 -2.4  3.6]\n",
      " [-4.4 -1.4  1.6  0.6 -3.4]]\n",
      "[[ 0.21879749  1.6774474   0.94812244  1.31278492 -1.23985243]\n",
      " [-0.14586499 -1.23985243  1.31278492  0.58345997 -0.51052747]\n",
      " [ 1.31278492  0.58345997 -1.23985243 -1.23985243 -0.87518995]\n",
      " [ 0.58345997  0.58345997 -0.51052747 -0.87518995  1.31278492]\n",
      " [-1.60451491 -0.51052747  0.58345997  0.21879749 -1.23985243]]\n",
      "[[5 9 7 8 1]\n",
      " [4 1 8 6 3]\n",
      " [8 6 1 1 2]\n",
      " [6 6 3 2 8]\n",
      " [0 3 6 5 1]]\n",
      "25.92296279363144\n",
      "[[0.19287919 0.34718254 0.27003086 0.3086067  0.03857584]\n",
      " [0.15430335 0.03857584 0.3086067  0.23145502 0.11572751]\n",
      " [0.3086067  0.23145502 0.03857584 0.03857584 0.07715167]\n",
      " [0.23145502 0.23145502 0.11572751 0.07715167 0.3086067 ]\n",
      " [0.         0.11572751 0.23145502 0.19287919 0.03857584]]\n"
     ]
    }
   ],
   "source": [
    "x = np.random.rand(5,5)*10\n",
    "x=x.astype(int)\n",
    "ar=x\n",
    "an_array=x\n",
    "print(ar)\n",
    "arx = ar-ar.mean()\n",
    "print(arx)\n",
    "arx=arx/ar.std()\n",
    "print(arx)\n",
    "\n",
    "#an_array=np.array([[1,2],[2,1]])\n",
    "print(an_array)\n",
    "norm = np.linalg.norm(an_array)\n",
    "print(norm)\n",
    "normal_array = an_array/norm\n",
    "print(normal_array)"
   ]
  },
  {
   "cell_type": "markdown",
   "metadata": {},
   "source": [
    "#### Q19 : Créer une matrice random `M` 2x2 et donner sa transposer \n",
    "L'opération de transposition dans une matrice consiste à échanger les lignes et le colonnes. "
   ]
  },
  {
   "cell_type": "code",
   "execution_count": 80,
   "metadata": {},
   "outputs": [
    {
     "name": "stdout",
     "output_type": "stream",
     "text": [
      "[[7 4]\n",
      " [3 7]]\n"
     ]
    },
    {
     "data": {
      "text/plain": [
       "array([[7, 3],\n",
       "       [4, 7]])"
      ]
     },
     "execution_count": 80,
     "metadata": {},
     "output_type": "execute_result"
    }
   ],
   "source": [
    "M= np.random.randint(0,10,size=(2,2))\n",
    "print(M)\n",
    "M.transpose((1,0))"
   ]
  },
  {
   "cell_type": "markdown",
   "metadata": {},
   "source": [
    "#### Q20 : Écrire un petit script qui remplace un élément au hasard dans une matrice de dimension NxN"
   ]
  },
  {
   "cell_type": "code",
   "execution_count": 87,
   "metadata": {},
   "outputs": [
    {
     "name": "stdout",
     "output_type": "stream",
     "text": [
      "Original: \n",
      "[[ 1  0 14  0  4]\n",
      " [15 18  3  2 16]\n",
      " [16 11 13  5  2]\n",
      " [ 8  4 16 13  2]\n",
      " [ 0 19  0  2 17]]\n",
      "\n",
      " After replacement: \n",
      "[[  1   0  14   0   4]\n",
      " [ 15  18   3   2  16]\n",
      " [ 16 555  13   5   2]\n",
      " [  8   4  16  13   2]\n",
      " [  0  19   0   2  17]]\n"
     ]
    }
   ],
   "source": [
    "# Data size\n",
    "N = 5\n",
    "\n",
    "# How many entries to replace\n",
    "REPLACE_COUNT = 1\n",
    "\n",
    "# What to replace with\n",
    "REPLACE_WITH = 555\n",
    "\n",
    "# Just for clarity of display\n",
    "#np.set_printoptions(precision=2, suppress=True)\n",
    "\n",
    "# Generate some data.\n",
    "data = np.random.randint(0, 20,size=(N,N))\n",
    "\n",
    "print('Original: ')\n",
    "print(data)\n",
    "\n",
    "data.flat[np.random.choice(N * N, REPLACE_COUNT, replace=False)] = REPLACE_WITH\n",
    "print('\\n After replacement: ')\n",
    "print(data)\n",
    "\n",
    "\n",
    "\n",
    "# # input array\n",
    "# x = np.array([[ 1., 2., 3.], [ 4., 5., 6.], [ 7., 8., 9.]])\n",
    "\n",
    "# # random boolean mask for which values will be changed\n",
    "# mask = np.random.randint(0,2,size=x.shape).astype(np.bool)\n",
    "\n",
    "# # random matrix the same shape of your data\n",
    "# r = np.random.rand(*x.shape)*np.max(x)\n",
    "\n",
    "# # use your mask to replace values in your input array\n",
    "# x[mask] = r[mask]\n",
    "# print(x)"
   ]
  },
  {
   "cell_type": "markdown",
   "metadata": {},
   "source": [
    "#### Q21 : Considérons une matrice de dimension (5,5,3), écrire un script qui multiplie cette matrice par une matrice de dimension (5,5)"
   ]
  },
  {
   "cell_type": "code",
   "execution_count": 77,
   "metadata": {},
   "outputs": [
    {
     "name": "stdout",
     "output_type": "stream",
     "text": [
      "Matrix A:\n",
      " [[ 6  3]\n",
      " [12 14]\n",
      " [10  7]]\n",
      "shape of A = (3, 2)\n",
      "\n",
      "Matrix B:\n",
      " [[12  4  6  9]\n",
      " [ 2  6 10 10]]\n",
      "shape of B = (2, 4)\n",
      "product of A and B:\n",
      " [[ 78  42  66  84]\n",
      " [172 132 212 248]\n",
      " [134  82 130 160]]\n",
      "shape of product = (3, 4)\n"
     ]
    }
   ],
   "source": [
    "np.random.seed(42)\n",
    "\n",
    "A = np.random.randint(0, 15, size=(3,2))\n",
    "\n",
    "B = np.random.randint(0, 15, size =(2,4))\n",
    "\n",
    "print(\"Matrix A:\\n\", A)\n",
    "\n",
    "print(\"shape of A =\", A.shape)\n",
    "\n",
    "print()\n",
    "\n",
    "print(\"Matrix B:\\n\", B)\n",
    "\n",
    "print(\"shape of B =\", B.shape)\n",
    "\n",
    "C = np.matmul(A, B)\n",
    "\n",
    "print(\"product of A and B:\\n\", C)\n",
    "\n",
    "print(\"shape of product =\", C.shape)"
   ]
  },
  {
   "cell_type": "code",
   "execution_count": null,
   "metadata": {},
   "outputs": [],
   "source": []
  }
 ],
 "metadata": {
  "kernelspec": {
   "display_name": "Python 3",
   "language": "python",
   "name": "python3"
  },
  "language_info": {
   "codemirror_mode": {
    "name": "ipython",
    "version": 3
   },
   "file_extension": ".py",
   "mimetype": "text/x-python",
   "name": "python",
   "nbconvert_exporter": "python",
   "pygments_lexer": "ipython3",
   "version": "3.8.4"
  },
  "latex_envs": {
   "LaTeX_envs_menu_present": true,
   "autoclose": false,
   "autocomplete": true,
   "bibliofile": "biblio.bib",
   "cite_by": "apalike",
   "current_citInitial": 1,
   "eqLabelWithNumbers": true,
   "eqNumInitial": 1,
   "hotkeys": {
    "equation": "Ctrl-E",
    "itemize": "Ctrl-I"
   },
   "labels_anchors": false,
   "latex_user_defs": false,
   "report_style_numbering": false,
   "user_envs_cfg": false
  },
  "toc": {
   "base_numbering": 1,
   "nav_menu": {},
   "number_sections": true,
   "sideBar": true,
   "skip_h1_title": false,
   "title_cell": "Table of Contents",
   "title_sidebar": "Contents",
   "toc_cell": false,
   "toc_position": {},
   "toc_section_display": true,
   "toc_window_display": false
  },
  "varInspector": {
   "cols": {
    "lenName": 16,
    "lenType": 16,
    "lenVar": 40
   },
   "kernels_config": {
    "python": {
     "delete_cmd_postfix": "",
     "delete_cmd_prefix": "del ",
     "library": "var_list.py",
     "varRefreshCmd": "print(var_dic_list())"
    },
    "r": {
     "delete_cmd_postfix": ") ",
     "delete_cmd_prefix": "rm(",
     "library": "var_list.r",
     "varRefreshCmd": "cat(var_dic_list()) "
    }
   },
   "types_to_exclude": [
    "module",
    "function",
    "builtin_function_or_method",
    "instance",
    "_Feature"
   ],
   "window_display": false
  }
 },
 "nbformat": 4,
 "nbformat_minor": 2
}
