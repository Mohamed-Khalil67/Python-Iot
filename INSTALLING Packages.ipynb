{
 "cells": [
  {
   "cell_type": "code",
   "execution_count": 2,
   "metadata": {
    "scrolled": true
   },
   "outputs": [
    {
     "name": "stdout",
     "output_type": "stream",
     "text": [
      "\u001b[33mDEPRECATION: Python 2.7 reached the end of its life on January 1st, 2020. Please upgrade your Python as Python 2.7 is no longer maintained. pip 21.0 will drop support for Python 2.7 in January 2021. More details about Python 2 support in pip can be found at https://pip.pypa.io/en/latest/development/release-process/#python-2-support pip 21.0 will remove support for this functionality.\u001b[0m\n",
      "Collecting pandas\n",
      "  Using cached pandas-0.24.2-cp27-cp27mu-manylinux1_x86_64.whl (10.1 MB)\n",
      "Collecting numpy>=1.12.0\n",
      "  Using cached numpy-1.16.6-cp27-cp27mu-manylinux1_x86_64.whl (17.0 MB)\n",
      "Requirement already satisfied: python-dateutil>=2.5.0 in ./env/lib/python2.7/site-packages (from pandas) (2.8.1)\n",
      "Collecting pytz>=2011k\n",
      "  Using cached pytz-2020.4-py2.py3-none-any.whl (509 kB)\n",
      "Requirement already satisfied: six>=1.5 in ./env/lib/python2.7/site-packages (from python-dateutil>=2.5.0->pandas) (1.15.0)\n",
      "Installing collected packages: numpy, pytz, pandas\n",
      "Successfully installed numpy-1.16.6 pandas-0.24.2 pytz-2020.4\n",
      "\u001b[33mWARNING: You are using pip version 20.2.4; however, version 20.3.1 is available.\n",
      "You should consider upgrading via the '/home/solomoon/Desktop/Projects/Python/env/bin/python -m pip install --upgrade pip' command.\u001b[0m\n"
     ]
    }
   ],
   "source": [
    "! pip install pandas "
   ]
  },
  {
   "cell_type": "code",
   "execution_count": 3,
   "metadata": {},
   "outputs": [
    {
     "name": "stdout",
     "output_type": "stream",
     "text": [
      "\u001b[33mDEPRECATION: Python 2.7 reached the end of its life on January 1st, 2020. Please upgrade your Python as Python 2.7 is no longer maintained. pip 21.0 will drop support for Python 2.7 in January 2021. More details about Python 2 support in pip can be found at https://pip.pypa.io/en/latest/development/release-process/#python-2-support pip 21.0 will remove support for this functionality.\u001b[0m\n",
      "Collecting jupyter_contrib_nbextensions\n",
      "  Downloading jupyter_contrib_nbextensions-0.5.1-py2.py3-none-any.whl (20.9 MB)\n",
      "\u001b[K     |████████████████████████████████| 20.9 MB 846 kB/s eta 0:00:01\n",
      "\u001b[?25hCollecting jupyter-nbextensions-configurator>=0.4.0\n",
      "  Downloading jupyter_nbextensions_configurator-0.4.1.tar.gz (479 kB)\n",
      "\u001b[K     |████████████████████████████████| 479 kB 1.0 MB/s eta 0:00:01\n",
      "\u001b[?25hRequirement already satisfied: jupyter-core in ./env/lib/python2.7/site-packages (from jupyter_contrib_nbextensions) (4.6.3)\n",
      "Requirement already satisfied: nbconvert>=4.2 in ./env/lib/python2.7/site-packages (from jupyter_contrib_nbextensions) (5.6.1)\n",
      "Collecting jupyter-highlight-selected-word>=0.1.1\n",
      "  Downloading jupyter_highlight_selected_word-0.2.0-py2.py3-none-any.whl (11 kB)\n",
      "Collecting lxml\n",
      "  Downloading lxml-4.6.2-cp27-cp27mu-manylinux1_x86_64.whl (5.5 MB)\n",
      "\u001b[K     |████████████████████████████████| 5.5 MB 1.6 MB/s eta 0:00:01\n",
      "\u001b[?25hRequirement already satisfied: traitlets>=4.1 in ./env/lib/python2.7/site-packages (from jupyter_contrib_nbextensions) (4.3.3)\n",
      "Collecting pyyaml\n",
      "  Downloading PyYAML-5.3.1.tar.gz (269 kB)\n",
      "\u001b[K     |████████████████████████████████| 269 kB 965 kB/s eta 0:00:01\n",
      "\u001b[?25hCollecting jupyter-contrib-core>=0.3.3\n",
      "  Downloading jupyter_contrib_core-0.3.3-py2.py3-none-any.whl (18 kB)\n",
      "Requirement already satisfied: notebook>=4.0 in ./env/lib/python2.7/site-packages (from jupyter_contrib_nbextensions) (5.7.10)\n",
      "Requirement already satisfied: ipython-genutils in ./env/lib/python2.7/site-packages (from jupyter_contrib_nbextensions) (0.2.0)\n",
      "Collecting jupyter-latex-envs>=1.3.8\n",
      "  Downloading jupyter_latex_envs-1.4.6.tar.gz (861 kB)\n",
      "\u001b[K     |████████████████████████████████| 861 kB 33 kB/s  eta 0:00:01\n",
      "\u001b[?25hRequirement already satisfied: tornado in ./env/lib/python2.7/site-packages (from jupyter_contrib_nbextensions) (5.1.1)\n",
      "Requirement already satisfied: defusedxml in ./env/lib/python2.7/site-packages (from nbconvert>=4.2->jupyter_contrib_nbextensions) (0.6.0)\n",
      "Requirement already satisfied: entrypoints>=0.2.2 in ./env/lib/python2.7/site-packages (from nbconvert>=4.2->jupyter_contrib_nbextensions) (0.3)\n",
      "Requirement already satisfied: mistune<2,>=0.8.1 in ./env/lib/python2.7/site-packages (from nbconvert>=4.2->jupyter_contrib_nbextensions) (0.8.4)\n",
      "Requirement already satisfied: bleach in ./env/lib/python2.7/site-packages (from nbconvert>=4.2->jupyter_contrib_nbextensions) (3.2.1)\n",
      "Requirement already satisfied: pandocfilters>=1.4.1 in ./env/lib/python2.7/site-packages (from nbconvert>=4.2->jupyter_contrib_nbextensions) (1.4.3)\n",
      "Requirement already satisfied: testpath in ./env/lib/python2.7/site-packages (from nbconvert>=4.2->jupyter_contrib_nbextensions) (0.4.4)\n",
      "Requirement already satisfied: nbformat>=4.4 in ./env/lib/python2.7/site-packages (from nbconvert>=4.2->jupyter_contrib_nbextensions) (4.4.0)\n",
      "Requirement already satisfied: pygments in ./env/lib/python2.7/site-packages (from nbconvert>=4.2->jupyter_contrib_nbextensions) (2.5.2)\n",
      "Requirement already satisfied: jinja2>=2.4 in ./env/lib/python2.7/site-packages (from nbconvert>=4.2->jupyter_contrib_nbextensions) (2.11.2)\n",
      "Requirement already satisfied: enum34; python_version == \"2.7\" in ./env/lib/python2.7/site-packages (from traitlets>=4.1->jupyter_contrib_nbextensions) (1.1.10)\n",
      "Requirement already satisfied: decorator in ./env/lib/python2.7/site-packages (from traitlets>=4.1->jupyter_contrib_nbextensions) (4.4.2)\n",
      "Requirement already satisfied: six in ./env/lib/python2.7/site-packages (from traitlets>=4.1->jupyter_contrib_nbextensions) (1.15.0)\n",
      "Requirement already satisfied: setuptools in ./env/lib/python2.7/site-packages (from jupyter-contrib-core>=0.3.3->jupyter_contrib_nbextensions) (44.1.1)\n",
      "Requirement already satisfied: ipaddress; python_version == \"2.7\" in ./env/lib/python2.7/site-packages (from notebook>=4.0->jupyter_contrib_nbextensions) (1.0.23)\n",
      "Requirement already satisfied: Send2Trash in ./env/lib/python2.7/site-packages (from notebook>=4.0->jupyter_contrib_nbextensions) (1.5.0)\n",
      "Requirement already satisfied: ipykernel in ./env/lib/python2.7/site-packages (from notebook>=4.0->jupyter_contrib_nbextensions) (4.10.1)\n",
      "Requirement already satisfied: prometheus-client in ./env/lib/python2.7/site-packages (from notebook>=4.0->jupyter_contrib_nbextensions) (0.9.0)\n",
      "Requirement already satisfied: terminado>=0.8.1 in ./env/lib/python2.7/site-packages (from notebook>=4.0->jupyter_contrib_nbextensions) (0.8.3)\n",
      "Requirement already satisfied: jupyter-client>=5.2.0 in ./env/lib/python2.7/site-packages (from notebook>=4.0->jupyter_contrib_nbextensions) (5.3.5)\n",
      "Requirement already satisfied: pyzmq>=17 in ./env/lib/python2.7/site-packages (from notebook>=4.0->jupyter_contrib_nbextensions) (19.0.2)\n",
      "Requirement already satisfied: ipython in ./env/lib/python2.7/site-packages (from jupyter-latex-envs>=1.3.8->jupyter_contrib_nbextensions) (5.10.0)\n",
      "Requirement already satisfied: backports-abc>=0.4 in ./env/lib/python2.7/site-packages (from tornado->jupyter_contrib_nbextensions) (0.5)\n",
      "Requirement already satisfied: singledispatch in ./env/lib/python2.7/site-packages (from tornado->jupyter_contrib_nbextensions) (3.4.0.3)\n",
      "Requirement already satisfied: futures in ./env/lib/python2.7/site-packages (from tornado->jupyter_contrib_nbextensions) (3.3.0)\n",
      "Requirement already satisfied: configparser>=3.5; python_version == \"2.7\" in ./env/lib/python2.7/site-packages (from entrypoints>=0.2.2->nbconvert>=4.2->jupyter_contrib_nbextensions) (4.0.2)\n",
      "Requirement already satisfied: webencodings in ./env/lib/python2.7/site-packages (from bleach->nbconvert>=4.2->jupyter_contrib_nbextensions) (0.5.1)\n",
      "Requirement already satisfied: packaging in ./env/lib/python2.7/site-packages (from bleach->nbconvert>=4.2->jupyter_contrib_nbextensions) (20.7)\n",
      "Requirement already satisfied: jsonschema!=2.5.0,>=2.4 in ./env/lib/python2.7/site-packages (from nbformat>=4.4->nbconvert>=4.2->jupyter_contrib_nbextensions) (3.2.0)\n",
      "Requirement already satisfied: MarkupSafe>=0.23 in ./env/lib/python2.7/site-packages (from jinja2>=2.4->nbconvert>=4.2->jupyter_contrib_nbextensions) (1.1.1)\n",
      "Requirement already satisfied: ptyprocess; os_name != \"nt\" in ./env/lib/python2.7/site-packages (from terminado>=0.8.1->notebook>=4.0->jupyter_contrib_nbextensions) (0.6.0)\n",
      "Requirement already satisfied: python-dateutil>=2.1 in ./env/lib/python2.7/site-packages (from jupyter-client>=5.2.0->notebook>=4.0->jupyter_contrib_nbextensions) (2.8.1)\n",
      "Requirement already satisfied: prompt-toolkit<2.0.0,>=1.0.4 in ./env/lib/python2.7/site-packages (from ipython->jupyter-latex-envs>=1.3.8->jupyter_contrib_nbextensions) (1.0.18)\n",
      "Requirement already satisfied: pexpect; sys_platform != \"win32\" in ./env/lib/python2.7/site-packages (from ipython->jupyter-latex-envs>=1.3.8->jupyter_contrib_nbextensions) (4.8.0)\n",
      "Requirement already satisfied: backports.shutil-get-terminal-size; python_version == \"2.7\" in ./env/lib/python2.7/site-packages (from ipython->jupyter-latex-envs>=1.3.8->jupyter_contrib_nbextensions) (1.0.0)\n",
      "Requirement already satisfied: simplegeneric>0.8 in ./env/lib/python2.7/site-packages (from ipython->jupyter-latex-envs>=1.3.8->jupyter_contrib_nbextensions) (0.8.1)\n",
      "Requirement already satisfied: pickleshare in ./env/lib/python2.7/site-packages (from ipython->jupyter-latex-envs>=1.3.8->jupyter_contrib_nbextensions) (0.7.5)\n",
      "Requirement already satisfied: pathlib2; python_version == \"2.7\" or python_version == \"3.3\" in ./env/lib/python2.7/site-packages (from ipython->jupyter-latex-envs>=1.3.8->jupyter_contrib_nbextensions) (2.3.5)\n",
      "Requirement already satisfied: pyparsing>=2.0.2 in ./env/lib/python2.7/site-packages (from packaging->bleach->nbconvert>=4.2->jupyter_contrib_nbextensions) (2.4.7)\n",
      "Requirement already satisfied: functools32; python_version < \"3\" in ./env/lib/python2.7/site-packages (from jsonschema!=2.5.0,>=2.4->nbformat>=4.4->nbconvert>=4.2->jupyter_contrib_nbextensions) (3.2.3.post2)\n",
      "Requirement already satisfied: importlib-metadata; python_version < \"3.8\" in ./env/lib/python2.7/site-packages (from jsonschema!=2.5.0,>=2.4->nbformat>=4.4->nbconvert>=4.2->jupyter_contrib_nbextensions) (2.1.1)\n",
      "Requirement already satisfied: attrs>=17.4.0 in ./env/lib/python2.7/site-packages (from jsonschema!=2.5.0,>=2.4->nbformat>=4.4->nbconvert>=4.2->jupyter_contrib_nbextensions) (20.3.0)\n"
     ]
    },
    {
     "name": "stdout",
     "output_type": "stream",
     "text": [
      "Requirement already satisfied: pyrsistent>=0.14.0 in ./env/lib/python2.7/site-packages (from jsonschema!=2.5.0,>=2.4->nbformat>=4.4->nbconvert>=4.2->jupyter_contrib_nbextensions) (0.16.1)\n",
      "Requirement already satisfied: wcwidth in ./env/lib/python2.7/site-packages (from prompt-toolkit<2.0.0,>=1.0.4->ipython->jupyter-latex-envs>=1.3.8->jupyter_contrib_nbextensions) (0.2.5)\n",
      "Requirement already satisfied: scandir; python_version < \"3.5\" in ./env/lib/python2.7/site-packages (from pathlib2; python_version == \"2.7\" or python_version == \"3.3\"->ipython->jupyter-latex-envs>=1.3.8->jupyter_contrib_nbextensions) (1.10.0)\n",
      "Requirement already satisfied: contextlib2; python_version < \"3\" in ./env/lib/python2.7/site-packages (from importlib-metadata; python_version < \"3.8\"->jsonschema!=2.5.0,>=2.4->nbformat>=4.4->nbconvert>=4.2->jupyter_contrib_nbextensions) (0.6.0.post1)\n",
      "Requirement already satisfied: zipp>=0.5 in ./env/lib/python2.7/site-packages (from importlib-metadata; python_version < \"3.8\"->jsonschema!=2.5.0,>=2.4->nbformat>=4.4->nbconvert>=4.2->jupyter_contrib_nbextensions) (1.2.0)\n",
      "Requirement already satisfied: backports.functools-lru-cache>=1.2.1; python_version < \"3.2\" in ./env/lib/python2.7/site-packages (from wcwidth->prompt-toolkit<2.0.0,>=1.0.4->ipython->jupyter-latex-envs>=1.3.8->jupyter_contrib_nbextensions) (1.6.1)\n",
      "Building wheels for collected packages: jupyter-nbextensions-configurator, pyyaml, jupyter-latex-envs\n",
      "  Building wheel for jupyter-nbextensions-configurator (setup.py) ... \u001b[?25ldone\n",
      "\u001b[?25h  Created wheel for jupyter-nbextensions-configurator: filename=jupyter_nbextensions_configurator-0.4.1-py2.py3-none-any.whl size=465824 sha256=fd1b7b42b5bd4e120c2b37a522123e53a9176bf93efd6045b46117034413a3be\n",
      "  Stored in directory: /home/solomoon/.cache/pip/wheels/d2/05/8d/07d8c1e00dfa225ac34e9db7a52a819aa2cfddd48278cea5a5\n",
      "  Building wheel for pyyaml (setup.py) ... \u001b[?25ldone\n",
      "\u001b[?25h  Created wheel for pyyaml: filename=PyYAML-5.3.1-cp27-cp27mu-linux_x86_64.whl size=45643 sha256=f45e70abad42571cfa2452af802218ec8e27f2dfa1378422761e71f90cb04248\n",
      "  Stored in directory: /home/solomoon/.cache/pip/wheels/d1/d5/a0/3c27cdc8b0209c5fc1385afeee936cf8a71e13d885388b4be2\n",
      "  Building wheel for jupyter-latex-envs (setup.py) ... \u001b[?25ldone\n",
      "\u001b[?25h  Created wheel for jupyter-latex-envs: filename=jupyter_latex_envs-1.4.6-py2.py3-none-any.whl size=963395 sha256=5b059e535a860b499608fb967126ad35e73287156b1b859609384221d93126f1\n",
      "  Stored in directory: /home/solomoon/.cache/pip/wheels/6f/41/04/a795612ca484c443e6ed3c0ec352942d48c59966ce5f8c3295\n",
      "Successfully built jupyter-nbextensions-configurator pyyaml jupyter-latex-envs\n",
      "Installing collected packages: jupyter-contrib-core, pyyaml, jupyter-nbextensions-configurator, jupyter-highlight-selected-word, lxml, jupyter-latex-envs, jupyter-contrib-nbextensions\n",
      "Successfully installed jupyter-contrib-core-0.3.3 jupyter-contrib-nbextensions-0.5.1 jupyter-highlight-selected-word-0.2.0 jupyter-latex-envs-1.4.6 jupyter-nbextensions-configurator-0.4.1 lxml-4.6.2 pyyaml-5.3.1\n",
      "\u001b[33mWARNING: You are using pip version 20.2.4; however, version 20.3.1 is available.\n",
      "You should consider upgrading via the '/home/solomoon/Desktop/Projects/Python/env/bin/python -m pip install --upgrade pip' command.\u001b[0m\n"
     ]
    }
   ],
   "source": [
    "! pip install jupyter_contrib_nbextensions"
   ]
  },
  {
   "cell_type": "code",
   "execution_count": 4,
   "metadata": {},
   "outputs": [
    {
     "name": "stdout",
     "output_type": "stream",
     "text": [
      "\u001b[33mDEPRECATION: Python 2.7 reached the end of its life on January 1st, 2020. Please upgrade your Python as Python 2.7 is no longer maintained. pip 21.0 will drop support for Python 2.7 in January 2021. More details about Python 2 support in pip can be found at https://pip.pypa.io/en/latest/development/release-process/#python-2-support pip 21.0 will remove support for this functionality.\u001b[0m\n",
      "Requirement already satisfied: numpy in ./env/lib/python2.7/site-packages (1.16.6)\n",
      "\u001b[33mWARNING: You are using pip version 20.2.4; however, version 20.3.1 is available.\n",
      "You should consider upgrading via the '/home/solomoon/Desktop/Projects/Python/env/bin/python -m pip install --upgrade pip' command.\u001b[0m\n"
     ]
    }
   ],
   "source": [
    "! pip install numpy"
   ]
  },
  {
   "cell_type": "code",
   "execution_count": 5,
   "metadata": {
    "scrolled": true
   },
   "outputs": [
    {
     "name": "stdout",
     "output_type": "stream",
     "text": [
      "\u001b[33mDEPRECATION: Python 2.7 reached the end of its life on January 1st, 2020. Please upgrade your Python as Python 2.7 is no longer maintained. pip 21.0 will drop support for Python 2.7 in January 2021. More details about Python 2 support in pip can be found at https://pip.pypa.io/en/latest/development/release-process/#python-2-support pip 21.0 will remove support for this functionality.\u001b[0m\n",
      "Collecting scikit-learn\n",
      "  Downloading scikit_learn-0.20.4-cp27-cp27mu-manylinux1_x86_64.whl (5.5 MB)\n",
      "\u001b[K     |████████████████████████████████| 5.5 MB 1.3 MB/s eta 0:00:01\n",
      "\u001b[?25hRequirement already satisfied, skipping upgrade: numpy>=1.8.2 in ./env/lib/python2.7/site-packages (from scikit-learn) (1.16.6)\n",
      "Collecting scipy>=0.13.3\n",
      "  Using cached scipy-1.2.3-cp27-cp27mu-manylinux1_x86_64.whl (24.8 MB)\n",
      "Installing collected packages: scipy, scikit-learn\n",
      "Successfully installed scikit-learn-0.20.4 scipy-1.2.3\n",
      "\u001b[33mWARNING: You are using pip version 20.2.4; however, version 20.3.1 is available.\n",
      "You should consider upgrading via the '/home/solomoon/Desktop/Projects/Python/env/bin/python -m pip install --upgrade pip' command.\u001b[0m\n"
     ]
    }
   ],
   "source": [
    "! pip install -U scikit-learn"
   ]
  },
  {
   "cell_type": "code",
   "execution_count": 6,
   "metadata": {},
   "outputs": [
    {
     "name": "stdout",
     "output_type": "stream",
     "text": [
      "\u001b[33mDEPRECATION: Python 2.7 reached the end of its life on January 1st, 2020. Please upgrade your Python as Python 2.7 is no longer maintained. pip 21.0 will drop support for Python 2.7 in January 2021. More details about Python 2 support in pip can be found at https://pip.pypa.io/en/latest/development/release-process/#python-2-support pip 21.0 will remove support for this functionality.\u001b[0m\n",
      "Collecting stop_words\n",
      "  Downloading stop-words-2018.7.23.tar.gz (31 kB)\n",
      "Building wheels for collected packages: stop-words\n",
      "  Building wheel for stop-words (setup.py) ... \u001b[?25ldone\n",
      "\u001b[?25h  Created wheel for stop-words: filename=stop_words-2018.7.23-py2-none-any.whl size=32915 sha256=a1f50b8f633c7b92977c69e3f5e8fb9da9f930e7c3106c5ffc54657cb3425331\n",
      "  Stored in directory: /home/solomoon/.cache/pip/wheels/ac/83/33/cafbf27ce5fe74e5cda593523f966b2c0796128c8eb210ee33\n",
      "Successfully built stop-words\n",
      "Installing collected packages: stop-words\n",
      "Successfully installed stop-words-2018.7.23\n",
      "\u001b[33mWARNING: You are using pip version 20.2.4; however, version 20.3.1 is available.\n",
      "You should consider upgrading via the '/home/solomoon/Desktop/Projects/Python/env/bin/python -m pip install --upgrade pip' command.\u001b[0m\n"
     ]
    }
   ],
   "source": [
    "! pip install stop_words"
   ]
  },
  {
   "cell_type": "code",
   "execution_count": 7,
   "metadata": {},
   "outputs": [
    {
     "name": "stdout",
     "output_type": "stream",
     "text": [
      "\u001b[33mDEPRECATION: Python 2.7 reached the end of its life on January 1st, 2020. Please upgrade your Python as Python 2.7 is no longer maintained. pip 21.0 will drop support for Python 2.7 in January 2021. More details about Python 2 support in pip can be found at https://pip.pypa.io/en/latest/development/release-process/#python-2-support pip 21.0 will remove support for this functionality.\u001b[0m\n",
      "Collecting joblib\n",
      "  Downloading joblib-0.14.1-py2.py3-none-any.whl (294 kB)\n",
      "\u001b[K     |████████████████████████████████| 294 kB 1.2 MB/s eta 0:00:01\n",
      "\u001b[?25hInstalling collected packages: joblib\n",
      "Successfully installed joblib-0.14.1\n",
      "\u001b[33mWARNING: You are using pip version 20.2.4; however, version 20.3.1 is available.\n",
      "You should consider upgrading via the '/home/solomoon/Desktop/Projects/Python/env/bin/python -m pip install --upgrade pip' command.\u001b[0m\n"
     ]
    }
   ],
   "source": [
    "! pip install joblib"
   ]
  },
  {
   "cell_type": "code",
   "execution_count": 2,
   "metadata": {},
   "outputs": [
    {
     "name": "stdout",
     "output_type": "stream",
     "text": [
      "\u001b[33mDEPRECATION: Python 2.7 reached the end of its life on January 1st, 2020. Please upgrade your Python as Python 2.7 is no longer maintained. pip 21.0 will drop support for Python 2.7 in January 2021. More details about Python 2 support in pip can be found at https://pip.pypa.io/en/latest/development/release-process/#python-2-support pip 21.0 will remove support for this functionality.\u001b[0m\n",
      "Collecting matplotlib\n",
      "  Using cached matplotlib-2.2.5-cp27-cp27mu-manylinux1_x86_64.whl (12.8 MB)\n",
      "Requirement already satisfied: python-dateutil>=2.1 in ./env/lib/python2.7/site-packages (from matplotlib) (2.8.1)\n",
      "Collecting kiwisolver>=1.0.1\n",
      "  Using cached kiwisolver-1.1.0-cp27-cp27mu-manylinux1_x86_64.whl (93 kB)\n",
      "Requirement already satisfied: numpy>=1.7.1 in ./env/lib/python2.7/site-packages (from matplotlib) (1.16.6)\n",
      "Requirement already satisfied: six>=1.10 in ./env/lib/python2.7/site-packages (from matplotlib) (1.15.0)\n",
      "Collecting cycler>=0.10\n",
      "  Using cached cycler-0.10.0-py2.py3-none-any.whl (6.5 kB)\n",
      "Requirement already satisfied: pyparsing!=2.0.4,!=2.1.2,!=2.1.6,>=2.0.1 in ./env/lib/python2.7/site-packages (from matplotlib) (2.4.7)\n",
      "Requirement already satisfied: pytz in ./env/lib/python2.7/site-packages (from matplotlib) (2020.4)\n",
      "Requirement already satisfied: backports.functools-lru-cache in ./env/lib/python2.7/site-packages (from matplotlib) (1.6.1)\n",
      "Collecting subprocess32\n",
      "  Using cached subprocess32-3.5.4-cp27-cp27mu-manylinux2014_x86_64.whl (69 kB)\n",
      "Requirement already satisfied: setuptools in ./env/lib/python2.7/site-packages (from kiwisolver>=1.0.1->matplotlib) (44.1.1)\n",
      "Installing collected packages: kiwisolver, cycler, subprocess32, matplotlib\n",
      "Successfully installed cycler-0.10.0 kiwisolver-1.1.0 matplotlib-2.2.5 subprocess32-3.5.4\n",
      "\u001b[33mWARNING: You are using pip version 20.2.4; however, version 20.3.1 is available.\n",
      "You should consider upgrading via the '/home/solomoon/Desktop/Projects/Python/env/bin/python -m pip install --upgrade pip' command.\u001b[0m\n"
     ]
    }
   ],
   "source": [
    "! pip install matplotlib"
   ]
  },
  {
   "cell_type": "code",
   "execution_count": null,
   "metadata": {},
   "outputs": [],
   "source": []
  }
 ],
 "metadata": {
  "kernelspec": {
   "display_name": "Python 3",
   "language": "python",
   "name": "python3"
  },
  "language_info": {
   "codemirror_mode": {
    "name": "ipython",
    "version": 2
   },
   "file_extension": ".py",
   "mimetype": "text/x-python",
   "name": "python",
   "nbconvert_exporter": "python",
   "pygments_lexer": "ipython2",
   "version": "2.7.17"
  }
 },
 "nbformat": 4,
 "nbformat_minor": 4
}
