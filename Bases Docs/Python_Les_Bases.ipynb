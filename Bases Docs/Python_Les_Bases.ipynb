{
 "cells": [
  {
   "cell_type": "markdown",
   "metadata": {},
   "source": [
    "# Python Exercices Algorithmes\n"
   ]
  },
  {
   "cell_type": "markdown",
   "metadata": {},
   "source": [
    "#### Notes avant exercices"
   ]
  },
  {
   "cell_type": "code",
   "execution_count": 1,
   "metadata": {},
   "outputs": [
    {
     "name": "stdout",
     "output_type": "stream",
     "text": [
      "2\n"
     ]
    }
   ],
   "source": [
    "a=2\n",
    "print(a)"
   ]
  },
  {
   "cell_type": "code",
   "execution_count": 6,
   "metadata": {},
   "outputs": [
    {
     "data": {
      "text/plain": [
       "[0, 2, 4, 6, 8]"
      ]
     },
     "execution_count": 6,
     "metadata": {},
     "output_type": "execute_result"
    }
   ],
   "source": [
    "[ x for x in range(10) if x%2==0 ]"
   ]
  },
  {
   "cell_type": "markdown",
   "metadata": {},
   "source": [
    "#### Somme des Valeurs "
   ]
  },
  {
   "cell_type": "code",
   "execution_count": 4,
   "metadata": {},
   "outputs": [
    {
     "data": {
      "text/plain": [
       "20"
      ]
     },
     "execution_count": 4,
     "metadata": {},
     "output_type": "execute_result"
    }
   ],
   "source": [
    "l2 = [ x for x in range(10) if x%2==0 ]\n",
    "sum(l2) "
   ]
  },
  {
   "cell_type": "markdown",
   "metadata": {},
   "source": [
    "### 1.Bases"
   ]
  },
  {
   "cell_type": "markdown",
   "metadata": {},
   "source": [
    "#### Square Root"
   ]
  },
  {
   "cell_type": "code",
   "execution_count": 5,
   "metadata": {},
   "outputs": [
    {
     "name": "stdout",
     "output_type": "stream",
     "text": [
      "The square root of 8.000 is 2.828\n"
     ]
    }
   ],
   "source": [
    "num=8\n",
    "\n",
    "num_sqrt= num**0.5\n",
    "print('The square root of %0.3f is %0.3f'%(num,num_sqrt))"
   ]
  },
  {
   "cell_type": "markdown",
   "metadata": {},
   "source": [
    "#### Aire du Triangle ( Heron's Formula )"
   ]
  },
  {
   "cell_type": "code",
   "execution_count": 7,
   "metadata": {},
   "outputs": [
    {
     "name": "stdout",
     "output_type": "stream",
     "text": [
      "Aire du triangle given three side 2.90\n"
     ]
    }
   ],
   "source": [
    "a=2\n",
    "b=3\n",
    "c=4\n",
    "\n",
    "s = (a+b+c)/2\n",
    "aire = (s*(s-a)*(s-b)*(s-c))**0.5\n",
    "\n",
    "print('Aire du triangle given three side %0.2f' %aire)"
   ]
  },
  {
   "cell_type": "markdown",
   "metadata": {},
   "source": [
    "#### 1.5 Calcul"
   ]
  },
  {
   "cell_type": "code",
   "execution_count": 30,
   "metadata": {},
   "outputs": [
    {
     "name": "stdout",
     "output_type": "stream",
     "text": [
      "Entrez valeur : 5\n",
      "6\n",
      "7\n",
      "8\n",
      "9\n",
      "10\n",
      "11\n",
      "12\n",
      "13\n",
      "14\n",
      "15\n"
     ]
    }
   ],
   "source": [
    "num=0\n",
    "num = int(input(\"Entrez valeur : \"))\n",
    "for i in range(10) : #itérations of 10 so boucle gonna repeat 10 times\n",
    "    num=num+1\n",
    "    print(num)"
   ]
  },
  {
   "cell_type": "markdown",
   "metadata": {},
   "source": [
    "#### 1.6 Additivté"
   ]
  },
  {
   "cell_type": "code",
   "execution_count": 10,
   "metadata": {},
   "outputs": [
    {
     "name": "stdout",
     "output_type": "stream",
     "text": [
      "Entrez valeur : 5\n",
      "1\n",
      "3\n",
      "6\n",
      "10\n",
      "15\n"
     ]
    }
   ],
   "source": [
    "somme=0\n",
    "num = int(input(\"Entrez valeur : \"))\n",
    "for i in range(1,num+1,1): #itérations of 10 so boucle gonna repeat 10 times\n",
    "    somme+=i\n",
    "    print(somme)\n",
    "    "
   ]
  },
  {
   "cell_type": "code",
   "execution_count": 14,
   "metadata": {},
   "outputs": [
    {
     "name": "stdout",
     "output_type": "stream",
     "text": [
      "0\n",
      "1\n",
      "2\n",
      "3\n",
      "4\n",
      "5\n",
      "6\n",
      "7\n",
      "8\n",
      "9\n"
     ]
    }
   ],
   "source": [
    "#trial\n",
    "\n",
    "tab=[i for i in range(10)] #itération is understood\n",
    "\n",
    "for j in range(10):\n",
    "    print(tab[j])"
   ]
  },
  {
   "cell_type": "markdown",
   "metadata": {},
   "source": [
    "### 2. Les Tableaux\n",
    "  \n",
    "####    2.1. La Somme\n"
   ]
  },
  {
   "cell_type": "code",
   "execution_count": 1,
   "metadata": {},
   "outputs": [
    {
     "data": {
      "text/plain": [
       "15"
      ]
     },
     "execution_count": 1,
     "metadata": {},
     "output_type": "execute_result"
    }
   ],
   "source": [
    "l=[1,2,3,4,5]\n",
    "sum(l)"
   ]
  },
  {
   "cell_type": "markdown",
   "metadata": {},
   "source": [
    "####    2.2 La Somme : retour"
   ]
  },
  {
   "cell_type": "code",
   "execution_count": 34,
   "metadata": {},
   "outputs": [
    {
     "name": "stdout",
     "output_type": "stream",
     "text": [
      "Tables entered are same size \n",
      "\n",
      "[6, 6, 10, 12, 14]\n"
     ]
    }
   ],
   "source": [
    "def Add(t1:list,t2:list):\n",
    "    tab=[]\n",
    "    if (len(t1) == len(t2)):\n",
    "        print('Tables entered are same size \\n')\n",
    "        for i in range(0,len(t1)):\n",
    "            tab += [0]\n",
    "    else :\n",
    "        print('Tablles arent smae size , exiting is in going')\n",
    "        sys.exit('Error Entries')\n",
    "        \n",
    "    for i in range(0,len(t1)):\n",
    "        tab[i]=(t1[i]+t2[i])\n",
    "    \n",
    "    return tab\n",
    "\n",
    "result=[]\n",
    "t1=[1,2,3,4,5] # can be changed to have certian entries with certain size\n",
    "t2=[5,4,7,8,9]\n",
    "\n",
    "result=Add(t1,t2)    \n",
    "print(result)\n"
   ]
  },
  {
   "cell_type": "code",
   "execution_count": 1,
   "metadata": {},
   "outputs": [
    {
     "name": "stdout",
     "output_type": "stream",
     "text": [
      "Tab3 value :  3\n",
      "Tab3 value :  5\n",
      "Tab3 value :  6\n",
      "Tab3 value :  8\n",
      "Tab3 value :  10\n"
     ]
    }
   ],
   "source": [
    "tab1=[1,2,3,4,5]\n",
    "tab2=[2,3,3,4,5]\n",
    "tab3=[0,0,0,0,0]\n",
    "\n",
    "for i in range(len(tab3)):\n",
    "    tab3[i]=(tab1[i]+tab2[i])\n",
    "    print(\"Tab3 value : \",tab3[i])\n",
    "        \n",
    "\n"
   ]
  },
  {
   "cell_type": "raw",
   "metadata": {},
   "source": [
    "# Note sur les Ranges \n",
    "range(start,stop,step_size) , en défaut start = 0 , stop= valeur mis\n",
    "\n",
    "tab=[]\n",
    "\n",
    "[ i for i in range(5) ]\n",
    "\n",
    "it1 : [0]\n",
    "it2 : [0,1]\n",
    "it3 : [0,1,2]"
   ]
  },
  {
   "cell_type": "markdown",
   "metadata": {},
   "source": [
    "#### 2.3 FacProduit"
   ]
  },
  {
   "cell_type": "code",
   "execution_count": 32,
   "metadata": {},
   "outputs": [
    {
     "name": "stdout",
     "output_type": "stream",
     "text": [
      "Tab3 value :  2\n",
      "facproduit : 2\n",
      "Tab3 value :  6\n",
      "facproduit : 8\n",
      "Tab3 value :  9\n",
      "facproduit : 17\n",
      "Tab3 value :  16\n",
      "facproduit : 33\n",
      "Tab3 value :  25\n",
      "facproduit : 58\n",
      "[2, 6, 9, 16, 25]\n"
     ]
    }
   ],
   "source": [
    "tab1=[1,2,3,4,5]\n",
    "tab2=[2,3,3,4,5]\n",
    "tab3=[0,0,0,0,0]\n",
    "facproduit =0\n",
    "for j in range(len(tab3)):\n",
    "    tab3[j]+=(tab1[j]*tab2[j])\n",
    "    print(\"Tab3 value : \",tab3[j]) \n",
    "    facproduit=sum(tab3)\n",
    "    print(\"facproduit : {0}\".format(facproduit))\n",
    "        \n",
    "print(tab3)            "
   ]
  },
  {
   "cell_type": "code",
   "execution_count": 23,
   "metadata": {},
   "outputs": [
    {
     "name": "stdout",
     "output_type": "stream",
     "text": [
      "85\n"
     ]
    }
   ],
   "source": [
    "def fp(t1:list,t2:list)->float:\n",
    "    i=0\n",
    "    b=0\n",
    "    for i in range(len(t1)):\n",
    "        b+=(t1[i]*t2[i])\n",
    "    return b\n",
    "\n",
    "\n",
    "t1 = [9,5,7]\n",
    "t2 = [4,7,2]\n",
    "\n",
    "facproduit=fp(t1,t2)\n",
    "\n",
    "print(facproduit)\n"
   ]
  },
  {
   "cell_type": "markdown",
   "metadata": {},
   "source": [
    "#### 2.4. Le plus grand\n"
   ]
  },
  {
   "cell_type": "code",
   "execution_count": 70,
   "metadata": {},
   "outputs": [
    {
     "name": "stdout",
     "output_type": "stream",
     "text": [
      "Saisir taille de tableau :3\n",
      "Value put in :77\n",
      "Value put in :88\n",
      "Value put in :555\n",
      " Max Value : 555.0 and Position : 2\n"
     ]
    },
    {
     "data": {
      "text/plain": [
       "'x=0\\nfor j in range(len(tab)):\\n    k=0\\n    for k in range(len(tab)):\\n        if (tab[x]>=tab[k]):\\n            nbmax=tab[x]\\n            print(\"High Value {0} Position index {1}\".format(nbmax,k))\\n        else:\\n            nbmax=tab[k]\\n            print(\"High Value {0} Position index {1}\".format(nbmax,k))\\n    else: \\n        print(\"Highest value in a round {0} with index {1}\".format(nbmax,x))\\n        max_value=nbmax\\n        max_value_index=x\\n    x+=1\\n\\nelse:\\n    print(\"Highest value {0} with index {1}\".format(max_value,max_value_index))'"
      ]
     },
     "execution_count": 70,
     "metadata": {},
     "output_type": "execute_result"
    }
   ],
   "source": [
    "nb = int(input(\"Saisir taille de tableau :\"))\n",
    "i=0\n",
    "tab=[x for x in range(nb)]\n",
    "while(i!=(nb)):\n",
    "    tab[i]=float(input(\"Value put in :\"))\n",
    "    i+=1  \n",
    "\n",
    "def biggest(numbers:list)->float:\n",
    "    \n",
    "    largest=numbers[0]\n",
    "    \n",
    "    for i in range(1,nb):\n",
    "        if (largest<numbers[i]):\n",
    "            largest=numbers[i]\n",
    "    return largest\n",
    "\n",
    "def index(numbers:list)->float:\n",
    "    \n",
    "    largest=numbers[0]\n",
    "    \n",
    "    for j in range(1,nb):\n",
    "        if (largest<numbers[j]):\n",
    "            largest=numbers[j]\n",
    "            max_position=j\n",
    "    return max_position\n",
    "\n",
    "print(\" Max Value : {0} and Position : {1}\".format(biggest(tab),index(tab)))\n",
    "\n",
    "\n",
    "\"\"\"max_value= max(tab)\n",
    "max_index= tab.index(max_value)\n",
    "\n",
    "print(\"High Value {0} Position index {1}\".format(max_value,max_index))\"\"\"\n",
    "\"\"\"x=0\n",
    "for j in range(len(tab)):\n",
    "    k=0\n",
    "    for k in range(len(tab)):\n",
    "        if (tab[x]>=tab[k]):\n",
    "            nbmax=tab[x]\n",
    "            print(\"High Value {0} Position index {1}\".format(nbmax,k))\n",
    "        else:\n",
    "            nbmax=tab[k]\n",
    "            print(\"High Value {0} Position index {1}\".format(nbmax,k))\n",
    "    else: \n",
    "        print(\"Highest value in a round {0} with index {1}\".format(nbmax,x))\n",
    "        max_value=nbmax\n",
    "        max_value_index=x\n",
    "    x+=1\n",
    "\n",
    "else:\n",
    "    print(\"Highest value {0} with index {1}\".format(max_value,max_value_index))\"\"\"\n"
   ]
  },
  {
   "cell_type": "markdown",
   "metadata": {},
   "source": [
    "#### Tris Table"
   ]
  },
  {
   "cell_type": "code",
   "execution_count": 10,
   "metadata": {},
   "outputs": [
    {
     "name": "stdout",
     "output_type": "stream",
     "text": [
      "Input list lenght: 5\n",
      "A[ 1 ]=\n",
      "3\n",
      "A[ 2 ]=\n",
      "4\n",
      "A[ 3 ]=\n",
      "8\n",
      "A[ 4 ]=\n",
      "1\n",
      "A[ 5 ]=\n",
      "2\n",
      "The list is:  [3, 4, 8, 1, 2]\n",
      "The sorted list is:  [1, 2, 3, 4, 8]\n"
     ]
    }
   ],
   "source": [
    "# How to order a table\n",
    "\n",
    "\"\"\"l = [64, 25, 12, 22, 11, 1,2,44,3,122, 23, 34]\n",
    "\n",
    "for i in range(len(l)):\n",
    "    for j in range(i + 1, len(l)):\n",
    "\n",
    "        if l[i] > l[j]:\n",
    "           l[i], l[j] = l[j], l[i]\n",
    "\n",
    "print (l)\"\"\"\n",
    "\n",
    "n = int(input(\"Input list lenght: \"))\n",
    "\n",
    "lista = []\n",
    "\n",
    "for i in range (1,n+1):\n",
    "    print (\"A[\",i,\"]=\")\n",
    "    ele = int(input())\n",
    "    lista.append(ele)\n",
    "print(\"The list is: \",lista)\n",
    "\n",
    "invers = True\n",
    "while invers == True:\n",
    "    invers = False \n",
    "    for i in range (n-1):\n",
    "        if lista[i]>lista[i+1]:\n",
    "            c=lista[i+1]\n",
    "            lista[i+1]=lista[i]\n",
    "            lista[i]=c\n",
    "            invers = True\n",
    "print(\"The sorted list is: \",lista)"
   ]
  },
  {
   "cell_type": "markdown",
   "metadata": {},
   "source": [
    "### 3.Maths\n",
    "   #### 3.1 Le Temps d'arrêt"
   ]
  },
  {
   "cell_type": "code",
   "execution_count": 6,
   "metadata": {},
   "outputs": [
    {
     "name": "stdout",
     "output_type": "stream",
     "text": [
      "Saisir Valeur de alpha :17\n",
      "Valeur de n entier :  13562027\n"
     ]
    }
   ],
   "source": [
    "alpha=float(input(\"Saisir Valeur de alpha :\"))\n",
    "k=1\n",
    "n=0\n",
    "H=0\n",
    "\n",
    "while alpha>H :\n",
    "    H+=(1/k)\n",
    "    k+=1\n",
    "    n+=1\n",
    "else:\n",
    "    print(\"Valeur de n entier : \",n)"
   ]
  },
  {
   "cell_type": "markdown",
   "metadata": {},
   "source": [
    "#### Extra exercice Martice code"
   ]
  },
  {
   "cell_type": "code",
   "execution_count": 3,
   "metadata": {},
   "outputs": [
    {
     "name": "stdout",
     "output_type": "stream",
     "text": [
      "Ligne entry : 2\n",
      "Colomun entry : 2\n",
      "entry in row:  1  column:  1\n",
      "4\n",
      "entry in row:  1  column:  2\n",
      "5\n",
      "entry in row:  2  column:  1\n",
      "4\n",
      "entry in row:  2  column:  2\n",
      "5\n",
      "Matrix X :  [4, 5]\n",
      "Matrix X :  [4, 5]\n",
      "entry in row:  1  column:  1\n",
      "8\n",
      "entry in row:  1  column:  2\n",
      "8\n",
      "entry in row:  2  column:  1\n",
      "8\n",
      "entry in row:  2  column:  2\n",
      "8\n",
      "Matrix Y :  [8, 8]\n",
      "Matrix Y :  [8, 8]\n",
      "Multiple de deux Matrices X et Y \n",
      "Matrix Z :  [72, 72]\n",
      "Matrix Z :  [72, 72]\n"
     ]
    }
   ],
   "source": [
    "l=int(input('Ligne entry : '))\n",
    "m=int(input('Colomun entry : '))\n",
    "\n",
    "X=[]\n",
    "Y=[]\n",
    "Z=[]\n",
    "\n",
    "for i in range(0,l):\n",
    "    X += [0]\n",
    "for i in range (0,l):\n",
    "    X[i] = [0]*m    #une forme pour créer une matrix avec uen Dimension voulu (désiré) multiplier par le colomun\n",
    "\n",
    "for i in range(0,l):\n",
    "    Y += [0]\n",
    "for i in range (0,l):\n",
    "    Y[i] = [0]*m  \n",
    "        \n",
    "for i in range(0,len(X)):\n",
    "    Z += [0]\n",
    "for i in range (0,len(Y)):\n",
    "    Z[i] = [0]*m  \n",
    "    \n",
    "for i in range(0,l):\n",
    "    for j in range(0,m):\n",
    "        print ('entry in row: ',i+1,' column: ',j+1)\n",
    "        X[i][j]=int(input())    \n",
    "for r in X:\n",
    "    print('Matrix X : ',r)\n",
    "    \n",
    "for i in range(0,l):\n",
    "    for j in range(0,m):\n",
    "        print ('entry in row: ',i+1,' column: ',j+1)\n",
    "        Y[i][j]=int(input())\n",
    "for r in Y:\n",
    "    print('Matrix Y : ',r)\n",
    "    \n",
    "print('Multiple de deux Matrices X et Y ')\n",
    "for i in range(0,len(X)):\n",
    "    for j in range(0,len(Y[0])):\n",
    "        for k in range(0,len(Y)):\n",
    "            Z[i][j]+=((X[i][k])*(Y[k][j]))\n",
    "for r in Z:\n",
    "    print('Matrix Z : ',r)"
   ]
  },
  {
   "cell_type": "markdown",
   "metadata": {},
   "source": [
    "\n",
    "#### 3.2 Petite equation"
   ]
  },
  {
   "cell_type": "code",
   "execution_count": 48,
   "metadata": {},
   "outputs": [
    {
     "name": "stdout",
     "output_type": "stream",
     "text": [
      "Resoudre équation pour x \n",
      "\n",
      "[1.0, 1.7320508075688772, 3.0, 4.358898943540674, 5.744562646538029, 7.14142842854285, 8.54400374531753, 9.9498743710662, 11.357816691600547, 12.767145334803704, 14.177446878757825, 15.588457268119896, 17.0, 18.411952639521967, 19.82422760159901, 21.236760581595302, 22.64950330581225, 24.06241883103193, 25.475478405713993, 26.888659319497503, 28.30194339616981, 29.715315916207253, 31.12876483254676, 32.54228019054596, 33.95585369269929, 35.369478367654786, 36.78314831549904, 38.19685850956856, 39.61060464067672, 41.02438299353203, 42.43819034784589, 43.8520238985614, 45.2658811910251, 46.67976006793523, 48.093658625644196, 49.50757517794625, 50.92150822589606, 52.3354564325181, 53.749418601506754, 55.163393659201205, 56.57738063926254, 57.99137866959192, 59.405386961116584, 60.81940479813988, 62.23343153000644, 63.647466563878254, 65.06150935845248, 66.47555941848101, 67.88961628997471, 69.30367955599472, 70.71774883294857, 72.131823767322, 73.54590403278758, 74.95998932764064, 76.3740793725201, 77.78817390837762, 79.20227269466452, 80.61637550770935, 82.03048213926333, 83.4445923951936, 84.85870609430714, 86.27282306729043, 87.68694315575154, 89.1010662113535, 90.515192095029, 91.92932067626738, 93.34345183246653, 94.75758544834287, 96.17172141539321, 97.58585963140357, 99.0, 100.41414243023739, 101.82828683622247, 103.24243313676794, 104.65658125507444, 106.07073111843813, 107.48488265798126, 108.89903580840374, 110.31319050775387, 111.72734669721643, 113.14150432091665, 114.55566332573872, 115.96982366115765, 117.3839852790831, 118.7981481337146, 120.21231218140677, 121.62647738054407, 123.04064369142418, 124.45481107614924, 125.86897949852458, 127.283148923964, 128.69731931940152, 130.11149065320865, 131.52566289511716, 132.93983601614678, 134.35400998853737, 135.76818478568535, 137.1823603820841, 138.5965367532681, 140.01071387576025, 141.42489172702236]\n"
     ]
    }
   ],
   "source": [
    "# pour résoude l'equation de ( x^2 - 2*y^2 = 1)\n",
    "# alors x = racine(1+2*y^2)\n",
    "import math\n",
    "x=0\n",
    "y=0\n",
    "\n",
    "print('Resoudre équation pour x \\n')\n",
    "y=[j for j in range(0,101,1)]\n",
    "x=[0]*len(y)\n",
    "\n",
    "for i in range(len(y)):\n",
    "    x[i] = math.sqrt(1+(2*y[i]*y[i]))\n",
    "    \n",
    "print(x)"
   ]
  },
  {
   "cell_type": "markdown",
   "metadata": {},
   "source": [
    "#### 3.3 Le Classico Classique : polynome 2"
   ]
  },
  {
   "cell_type": "code",
   "execution_count": 7,
   "metadata": {},
   "outputs": [],
   "source": [
    "import math"
   ]
  },
  {
   "cell_type": "code",
   "execution_count": 3,
   "metadata": {},
   "outputs": [
    {
     "name": "stdout",
     "output_type": "stream",
     "text": [
      "Equation Polynomiale second degrée : a(x^2)+bx+c \n",
      " Resoudre equation en entrant les coefficents \n",
      "\n",
      "Saisir Valeur a \n",
      "4\n",
      "Saisir Valeur b \n",
      "2\n",
      "Saisir Valeur c \n",
      "1\n",
      "Racine négatif insolvable\n"
     ]
    },
    {
     "ename": "SystemExit",
     "evalue": "Forced Exit",
     "output_type": "error",
     "traceback": [
      "An exception has occurred, use %tb to see the full traceback.\n",
      "\u001b[1;31mSystemExit\u001b[0m\u001b[1;31m:\u001b[0m Forced Exit\n"
     ]
    }
   ],
   "source": [
    "import math\n",
    "import sys\n",
    "print('Equation Polynomiale second degrée : a(x^2)+bx+c \\n Resoudre equation en entrant les coefficents \\n')\n",
    "\n",
    "a=float(input('Saisir Valeur a \\n'))\n",
    "b=float(input('Saisir Valeur b \\n'))\n",
    "c=float(input('Saisir Valeur c \\n'))\n",
    "\n",
    "delta=(pow(b,2)-4*a*c)\n",
    "#les racines carrés solutions\n",
    "if ( delta < 0):\n",
    "    print('Racine négatif insolvable')\n",
    "    sys.exit('Forced Exit') \n",
    "\n",
    "elif ( delta == 0):\n",
    "    print('Déscriminant zéro une solution')\n",
    "    r1=(-b + math.sqrt(pow(b,2)-4*a*c))/(2*a)\n",
    "    print('Racine 1 : \\n',r1)\n",
    "    r2=(-b - math.sqrt(pow(b,2)-4*a*c))/(2*a)\n",
    "    print('Racine 2 : ',r2)\n",
    "elif ( delta < 0):\n",
    "    print('Déscriminant positif deux solutions')\n",
    "    r1=(-b + math.sqrt(pow(b,2)-4*a*c))/(2*a)\n",
    "    print('Racine 1 : \\n',r1)\n",
    "    r2=(-b - math.sqrt(pow(b,2)-4*a*c))/(2*a)\n",
    "    print('Racine 2 : ',r2)\n"
   ]
  },
  {
   "cell_type": "markdown",
   "metadata": {},
   "source": [
    "#### 3.5 Factorielle"
   ]
  },
  {
   "cell_type": "code",
   "execution_count": 7,
   "metadata": {},
   "outputs": [
    {
     "name": "stdout",
     "output_type": "stream",
     "text": [
      "Enter number to be factorielle :7\n",
      "The factorial of 7 is 5040\n"
     ]
    }
   ],
   "source": [
    "factorial = 1\n",
    "num = int(input('Enter number to be factorielle :'))\n",
    "\n",
    "if (num < 0) :\n",
    "   print(\"Sorry, factorial does not exist for negative numbers\")\n",
    "elif num == 0:\n",
    "   print(\"The factorial of 0 is 1\")\n",
    "else:\n",
    "   for i in range(1,num + 1):\n",
    "       factorial = factorial*i\n",
    "   print(\"The factorial of\",num,\"is\",factorial)"
   ]
  },
  {
   "cell_type": "code",
   "execution_count": null,
   "metadata": {},
   "outputs": [],
   "source": []
  }
 ],
 "metadata": {
  "kernelspec": {
   "display_name": "Python 3",
   "language": "python",
   "name": "python3"
  },
  "language_info": {
   "codemirror_mode": {
    "name": "ipython",
    "version": 3
   },
   "file_extension": ".py",
   "mimetype": "text/x-python",
   "name": "python",
   "nbconvert_exporter": "python",
   "pygments_lexer": "ipython3",
   "version": "3.8.4"
  },
  "toc": {
   "base_numbering": 1,
   "nav_menu": {},
   "number_sections": false,
   "sideBar": true,
   "skip_h1_title": false,
   "title_cell": "Table of Contents",
   "title_sidebar": "Contents",
   "toc_cell": false,
   "toc_position": {
    "height": "574.4px",
    "left": "339px",
    "top": "325.2px",
    "width": "165px"
   },
   "toc_section_display": true,
   "toc_window_display": true
  },
  "varInspector": {
   "cols": {
    "lenName": 16,
    "lenType": 16,
    "lenVar": 40
   },
   "kernels_config": {
    "python": {
     "delete_cmd_postfix": "",
     "delete_cmd_prefix": "del ",
     "library": "var_list.py",
     "varRefreshCmd": "print(var_dic_list())"
    },
    "r": {
     "delete_cmd_postfix": ") ",
     "delete_cmd_prefix": "rm(",
     "library": "var_list.r",
     "varRefreshCmd": "cat(var_dic_list()) "
    }
   },
   "oldHeight": 274.4,
   "position": {
    "height": "40px",
    "left": "1187px",
    "right": "20px",
    "top": "120px",
    "width": "329px"
   },
   "types_to_exclude": [
    "module",
    "function",
    "builtin_function_or_method",
    "instance",
    "_Feature"
   ],
   "varInspector_section_display": "none",
   "window_display": true
  }
 },
 "nbformat": 4,
 "nbformat_minor": 4
}
